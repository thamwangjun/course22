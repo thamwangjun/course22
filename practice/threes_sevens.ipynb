{
 "cells": [
  {
   "cell_type": "code",
   "outputs": [],
   "source": [
    "from fastai.vision.all import *"
   ],
   "metadata": {
    "collapsed": false,
    "ExecuteTime": {
     "end_time": "2023-12-29T08:32:08.053669Z",
     "start_time": "2023-12-29T08:32:05.299890Z"
    }
   },
   "id": "524122c9b87ec9f1",
   "execution_count": 1
  },
  {
   "cell_type": "code",
   "outputs": [],
   "source": [
    "path = untar_data(URLs.MNIST_SAMPLE)"
   ],
   "metadata": {
    "collapsed": false,
    "ExecuteTime": {
     "end_time": "2023-12-29T08:32:08.054316Z",
     "start_time": "2023-12-29T08:32:08.050104Z"
    }
   },
   "id": "523b02012626ab0",
   "execution_count": 2
  },
  {
   "cell_type": "code",
   "outputs": [
    {
     "data": {
      "text/plain": "(#3) [Path('/Users/wangjuntham/.fastai/data/mnist_sample/valid'),Path('/Users/wangjuntham/.fastai/data/mnist_sample/labels.csv'),Path('/Users/wangjuntham/.fastai/data/mnist_sample/train')]"
     },
     "execution_count": 3,
     "metadata": {},
     "output_type": "execute_result"
    }
   ],
   "source": [
    "path.ls()"
   ],
   "metadata": {
    "collapsed": false,
    "ExecuteTime": {
     "end_time": "2023-12-29T08:32:08.068575Z",
     "start_time": "2023-12-29T08:32:08.053742Z"
    }
   },
   "id": "1b9f6eb9b93c8e6a",
   "execution_count": 3
  },
  {
   "cell_type": "code",
   "outputs": [
    {
     "data": {
      "text/plain": "(#2) [Path('/Users/wangjuntham/.fastai/data/mnist_sample/train/7'),Path('/Users/wangjuntham/.fastai/data/mnist_sample/train/3')]"
     },
     "execution_count": 4,
     "metadata": {},
     "output_type": "execute_result"
    }
   ],
   "source": [
    "(path/'train').ls()\n"
   ],
   "metadata": {
    "collapsed": false,
    "ExecuteTime": {
     "end_time": "2023-12-29T08:32:08.069202Z",
     "start_time": "2023-12-29T08:32:08.057670Z"
    }
   },
   "id": "28fd49f500ad739",
   "execution_count": 4
  },
  {
   "cell_type": "code",
   "outputs": [],
   "source": [
    "threes = (path/'train'/'3').ls().sorted()\n",
    "sevens = (path/'train'/'7').ls().sorted()"
   ],
   "metadata": {
    "collapsed": false,
    "ExecuteTime": {
     "end_time": "2023-12-29T08:32:08.116497Z",
     "start_time": "2023-12-29T08:32:08.061391Z"
    }
   },
   "id": "2b7c09844797c2df",
   "execution_count": 5
  },
  {
   "cell_type": "code",
   "outputs": [],
   "source": [
    "#image_3_path = threes[0]"
   ],
   "metadata": {
    "collapsed": false,
    "ExecuteTime": {
     "end_time": "2023-12-29T08:32:08.117044Z",
     "start_time": "2023-12-29T08:32:08.114058Z"
    }
   },
   "id": "b7b1839b18f9a1cb",
   "execution_count": 6
  },
  {
   "cell_type": "code",
   "outputs": [],
   "source": [
    "#image_3_sample = Image.open(image_3_path)\n",
    "#image_3_sample"
   ],
   "metadata": {
    "collapsed": false,
    "ExecuteTime": {
     "end_time": "2023-12-29T08:32:08.123360Z",
     "start_time": "2023-12-29T08:32:08.117133Z"
    }
   },
   "id": "557a5144c61c7b20",
   "execution_count": 7
  },
  {
   "cell_type": "code",
   "outputs": [],
   "source": [
    "#tensor(image_3_sample)[4:10, 4:10]"
   ],
   "metadata": {
    "collapsed": false,
    "ExecuteTime": {
     "end_time": "2023-12-29T08:32:08.123907Z",
     "start_time": "2023-12-29T08:32:08.119586Z"
    }
   },
   "id": "4c91b9cb101a5e30",
   "execution_count": 8
  },
  {
   "cell_type": "code",
   "outputs": [],
   "source": [
    "#import pandas as pd"
   ],
   "metadata": {
    "collapsed": false,
    "ExecuteTime": {
     "end_time": "2023-12-29T08:32:08.124920Z",
     "start_time": "2023-12-29T08:32:08.122750Z"
    }
   },
   "id": "382614dc41df6f22",
   "execution_count": 9
  },
  {
   "cell_type": "code",
   "outputs": [],
   "source": [
    "#df = pd.DataFrame(tensor(image_3_sample)[4:15, 4:22])\n",
    "#df.style.set_properties(**{'font-size':'6pt'}).background_gradient('Greys')"
   ],
   "metadata": {
    "collapsed": false,
    "ExecuteTime": {
     "end_time": "2023-12-29T08:32:08.130177Z",
     "start_time": "2023-12-29T08:32:08.125016Z"
    }
   },
   "id": "bc414a09578e60cb",
   "execution_count": 10
  },
  {
   "cell_type": "code",
   "outputs": [],
   "source": [
    "seven_tensors = [tensor(Image.open(o)) for o in sevens]\n",
    "three_tensors = [tensor(Image.open(o)) for o in threes]"
   ],
   "metadata": {
    "collapsed": false,
    "ExecuteTime": {
     "end_time": "2023-12-29T08:32:09.898892Z",
     "start_time": "2023-12-29T08:32:08.127786Z"
    }
   },
   "id": "a98e9214538832eb",
   "execution_count": 11
  },
  {
   "cell_type": "code",
   "outputs": [
    {
     "data": {
      "text/plain": "(6265, 6131)"
     },
     "execution_count": 12,
     "metadata": {},
     "output_type": "execute_result"
    }
   ],
   "source": [
    "len(seven_tensors), len(three_tensors)"
   ],
   "metadata": {
    "collapsed": false,
    "ExecuteTime": {
     "end_time": "2023-12-29T08:32:09.899581Z",
     "start_time": "2023-12-29T08:32:09.892802Z"
    }
   },
   "id": "cce61ced2c37eee2",
   "execution_count": 12
  },
  {
   "cell_type": "code",
   "outputs": [
    {
     "data": {
      "text/plain": "<Axes: >"
     },
     "execution_count": 13,
     "metadata": {},
     "output_type": "execute_result"
    },
    {
     "data": {
      "text/plain": "<Figure size 100x100 with 1 Axes>",
      "image/png": "[encoded data removed]"
     },
     "metadata": {},
     "output_type": "display_data"
    }
   ],
   "source": [
    "show_image(three_tensors[1])"
   ],
   "metadata": {
    "collapsed": false,
    "ExecuteTime": {
     "end_time": "2023-12-29T08:32:09.954402Z",
     "start_time": "2023-12-29T08:32:09.895360Z"
    }
   },
   "id": "19bf89839c87d47b",
   "execution_count": 13
  },
  {
   "cell_type": "code",
   "outputs": [],
   "source": [
    "stacked_sevens = torch.stack(seven_tensors).float()/255\n",
    "stacked_threes = torch.stack(three_tensors).float()/255"
   ],
   "metadata": {
    "collapsed": false,
    "ExecuteTime": {
     "end_time": "2023-12-29T08:32:09.974932Z",
     "start_time": "2023-12-29T08:32:09.956782Z"
    }
   },
   "id": "912e44a65db89448",
   "execution_count": 14
  },
  {
   "cell_type": "code",
   "outputs": [
    {
     "data": {
      "text/plain": "torch.Size([6131, 28, 28])"
     },
     "execution_count": 15,
     "metadata": {},
     "output_type": "execute_result"
    }
   ],
   "source": [
    "stacked_threes.shape"
   ],
   "metadata": {
    "collapsed": false,
    "ExecuteTime": {
     "end_time": "2023-12-29T08:32:09.994257Z",
     "start_time": "2023-12-29T08:32:09.973541Z"
    }
   },
   "id": "107c1551180beb5",
   "execution_count": 15
  },
  {
   "cell_type": "code",
   "outputs": [
    {
     "data": {
      "text/plain": "<Axes: >"
     },
     "execution_count": 16,
     "metadata": {},
     "output_type": "execute_result"
    },
    {
     "data": {
      "text/plain": "<Figure size 100x100 with 1 Axes>",
      "image/png": "[encoded data removed]"
     },
     "metadata": {},
     "output_type": "display_data"
    }
   ],
   "source": [
    "mean3 = stacked_threes.mean(0)\n",
    "show_image(mean3)"
   ],
   "metadata": {
    "collapsed": false,
    "ExecuteTime": {
     "end_time": "2023-12-29T08:32:10.006686Z",
     "start_time": "2023-12-29T08:32:09.983621Z"
    }
   },
   "id": "bb7d6bcfa66f00fa",
   "execution_count": 16
  },
  {
   "cell_type": "code",
   "outputs": [
    {
     "data": {
      "text/plain": "<Axes: >"
     },
     "execution_count": 17,
     "metadata": {},
     "output_type": "execute_result"
    },
    {
     "data": {
      "text/plain": "<Figure size 100x100 with 1 Axes>",
      "image/png": "[encoded data removed]"
     },
     "metadata": {},
     "output_type": "display_data"
    }
   ],
   "source": [
    "mean7 = stacked_sevens.mean(0)\n",
    "show_image(mean7)"
   ],
   "metadata": {
    "collapsed": false,
    "ExecuteTime": {
     "end_time": "2023-12-29T08:32:10.044294Z",
     "start_time": "2023-12-29T08:32:10.001356Z"
    }
   },
   "id": "64787347857f86ed",
   "execution_count": 17
  },
  {
   "cell_type": "code",
   "outputs": [
    {
     "data": {
      "text/plain": "<Axes: >"
     },
     "execution_count": 18,
     "metadata": {},
     "output_type": "execute_result"
    },
    {
     "data": {
      "text/plain": "<Figure size 100x100 with 1 Axes>",
      "image/png": "[encoded data removed]"
     },
     "metadata": {},
     "output_type": "display_data"
    }
   ],
   "source": [
    "chosen_3 = stacked_threes[42]\n",
    "show_image(chosen_3)"
   ],
   "metadata": {
    "collapsed": false,
    "ExecuteTime": {
     "end_time": "2023-12-29T08:32:10.045123Z",
     "start_time": "2023-12-29T08:32:10.024259Z"
    }
   },
   "id": "a76cbaef7a98368e",
   "execution_count": 18
  },
  {
   "cell_type": "code",
   "outputs": [
    {
     "data": {
      "text/plain": "tensor(0.1210)"
     },
     "execution_count": 19,
     "metadata": {},
     "output_type": "execute_result"
    }
   ],
   "source": [
    "distance_absolute_3 = (chosen_3 - mean3).abs().mean()\n",
    "distance_absolute_3"
   ],
   "metadata": {
    "collapsed": false,
    "ExecuteTime": {
     "end_time": "2023-12-29T08:32:10.119946Z",
     "start_time": "2023-12-29T08:32:10.044155Z"
    }
   },
   "id": "afc2b61980e8451a",
   "execution_count": 19
  },
  {
   "cell_type": "code",
   "outputs": [
    {
     "data": {
      "text/plain": "tensor(0.2216)"
     },
     "execution_count": 20,
     "metadata": {},
     "output_type": "execute_result"
    }
   ],
   "source": [
    "distance_squared_3 = ((chosen_3 - mean3)**2).mean().sqrt()\n",
    "distance_squared_3"
   ],
   "metadata": {
    "collapsed": false,
    "ExecuteTime": {
     "end_time": "2023-12-29T08:32:10.120808Z",
     "start_time": "2023-12-29T08:32:10.049232Z"
    }
   },
   "id": "7d6c5e0664d8eb01",
   "execution_count": 20
  },
  {
   "cell_type": "code",
   "outputs": [
    {
     "data": {
      "text/plain": "tensor(0.1769)"
     },
     "execution_count": 21,
     "metadata": {},
     "output_type": "execute_result"
    }
   ],
   "source": [
    "\n",
    "distance_absolute_7 = (chosen_3 - mean7).abs().mean()\n",
    "distance_absolute_7"
   ],
   "metadata": {
    "collapsed": false,
    "ExecuteTime": {
     "end_time": "2023-12-29T08:32:10.120909Z",
     "start_time": "2023-12-29T08:32:10.052849Z"
    }
   },
   "id": "4dbbd14cc27fc62c",
   "execution_count": 21
  },
  {
   "cell_type": "code",
   "outputs": [
    {
     "data": {
      "text/plain": "tensor(0.3294)"
     },
     "execution_count": 22,
     "metadata": {},
     "output_type": "execute_result"
    }
   ],
   "source": [
    "distance_squared_7 = ((chosen_3 - mean7)**2).mean().sqrt()\n",
    "distance_squared_7"
   ],
   "metadata": {
    "collapsed": false,
    "ExecuteTime": {
     "end_time": "2023-12-29T08:32:10.121366Z",
     "start_time": "2023-12-29T08:32:10.059275Z"
    }
   },
   "id": "54701ad27a5bc5e6",
   "execution_count": 22
  },
  {
   "cell_type": "code",
   "outputs": [
    {
     "data": {
      "text/plain": "(tensor(0.1210), tensor(0.2216))"
     },
     "execution_count": 25,
     "metadata": {},
     "output_type": "execute_result"
    }
   ],
   "source": [
    "distance_absolute_3, distance_squared_3"
   ],
   "metadata": {
    "collapsed": false,
    "ExecuteTime": {
     "end_time": "2023-12-29T08:33:53.761910Z",
     "start_time": "2023-12-29T08:33:53.758330Z"
    }
   },
   "id": "e0e04d78ce35bedd",
   "execution_count": 25
  },
  {
   "cell_type": "code",
   "outputs": [
    {
     "data": {
      "text/plain": "(tensor(0.1769), tensor(0.3294))"
     },
     "execution_count": 26,
     "metadata": {},
     "output_type": "execute_result"
    }
   ],
   "source": [
    "distance_absolute_7, distance_squared_7"
   ],
   "metadata": {
    "collapsed": false,
    "ExecuteTime": {
     "end_time": "2023-12-29T08:33:58.366643Z",
     "start_time": "2023-12-29T08:33:58.363983Z"
    }
   },
   "id": "1c408bd4adcae459",
   "execution_count": 26
  },
  {
   "cell_type": "code",
   "outputs": [
    {
     "data": {
      "text/plain": "(tensor(0.1210), tensor(0.0491))"
     },
     "execution_count": 27,
     "metadata": {},
     "output_type": "execute_result"
    }
   ],
   "source": [
    "import torch.nn.functional as F\n",
    "F.l1_loss(chosen_3, mean3), F.mse_loss(chosen_3, mean3)"
   ],
   "metadata": {
    "collapsed": false,
    "ExecuteTime": {
     "end_time": "2023-12-29T10:40:24.067671Z",
     "start_time": "2023-12-29T10:40:24.063198Z"
    }
   },
   "id": "a45f5aaa069e33ba",
   "execution_count": 27
  },
  {
   "cell_type": "code",
   "outputs": [
    {
     "data": {
      "text/plain": "(tensor(0.1769), tensor(0.1085))"
     },
     "execution_count": 29,
     "metadata": {},
     "output_type": "execute_result"
    }
   ],
   "source": [
    "F.l1_loss(chosen_3, mean7), F.mse_loss(chosen_3, mean7)"
   ],
   "metadata": {
    "collapsed": false,
    "ExecuteTime": {
     "end_time": "2023-12-29T10:42:01.205455Z",
     "start_time": "2023-12-29T10:42:01.199375Z"
    }
   },
   "id": "1afb7efac2850c8a",
   "execution_count": 29
  },
  {
   "cell_type": "markdown",
   "source": [],
   "metadata": {
    "collapsed": false
   },
   "id": "9024c44dd55d37b2"
  }
 ],
 "metadata": {
  "kernelspec": {
   "display_name": "Python 3",
   "language": "python",
   "name": "python3"
  },
  "language_info": {
   "codemirror_mode": {
    "name": "ipython",
    "version": 2
   },
   "file_extension": ".py",
   "mimetype": "text/x-python",
   "name": "python",
   "nbconvert_exporter": "python",
   "pygments_lexer": "ipython2",
   "version": "2.7.6"
  }
 },
 "nbformat": 4,
 "nbformat_minor": 5
}
