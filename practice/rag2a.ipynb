{
 "cells": [
  {
   "cell_type": "code",
   "execution_count": 1,
   "id": "initial_id",
   "metadata": {
    "collapsed": true,
    "ExecuteTime": {
     "end_time": "2024-01-09T11:37:01.178973Z",
     "start_time": "2024-01-09T11:37:01.153108Z"
    }
   },
   "outputs": [
    {
     "name": "stdout",
     "output_type": "stream",
     "text": [
      "skipping\n"
     ]
    }
   ],
   "source": [
    "%%script echo skipping\n",
    "%conda install jupyter pytorch\n",
    "%pip install 'git+https://github.com/deepset-ai/haystack.git' sentence-transformers 'txtai[pipeline-data]' elasticsearch-haystack gradio"
   ]
  },
  {
   "cell_type": "code",
   "outputs": [],
   "source": [
    "from haystack import Pipeline, Document\n",
    "from elasticsearch_haystack.embedding_retriever import ElasticsearchEmbeddingRetriever\n",
    "from elasticsearch_haystack.document_store import ElasticsearchDocumentStore\n",
    "from haystack.components.embedders import SentenceTransformersTextEmbedder, SentenceTransformersDocumentEmbedder\n",
    "from haystack.components.writers import DocumentWriter\n",
    "from txtai.pipeline import Textractor\n",
    "from haystack.dataclasses import ChatMessage\n",
    "from haystack.components.writers.document_writer import DuplicatePolicy\n",
    "from haystack.components.builders import DynamicChatPromptBuilder\n",
    "\n",
    "from haystack.components.generators.chat import OpenAIChatGenerator\n",
    "\n",
    "textract = Textractor(paragraphs=True)\n",
    "\n",
    "document_store = ElasticsearchDocumentStore(hosts=\"http://localhost:9200\", embedding_similarity_function=\"cosine\")\n",
    "\n",
    "document_embedder = SentenceTransformersDocumentEmbedder(\n",
    "    model_name_or_path=\"BAAI/llm-embedder\",\n",
    "    prefix=\"Represent this document for retrieval: \"\n",
    ")\n",
    "document_embedder.warm_up()\n",
    "\n",
    "documents = []"
   ],
   "metadata": {
    "collapsed": false,
    "ExecuteTime": {
     "end_time": "2024-01-09T11:37:05.299231Z",
     "start_time": "2024-01-09T11:37:01.165550Z"
    }
   },
   "id": "8501ec8708cd5e0",
   "execution_count": 2
  },
  {
   "cell_type": "code",
   "outputs": [
    {
     "name": "stdout",
     "output_type": "stream",
     "text": [
      "skipping\n"
     ]
    }
   ],
   "source": [
    "%%script echo skipping\n",
    "for paragraph in textract(\"zarathustra-critical-guide.html\"):\n",
    "    if len(paragraph) > 32:\n",
    "        documents.append(\n",
    "            Document(\n",
    "                meta={'name': \"Nietzsche's 'Thus Spoke Zarathustra': A Critical Guide\"},\n",
    "                content=paragraph\n",
    "            )\n",
    "        )\n",
    "\n",
    "for paragraph in textract(\"zarathustra.md\"):\n",
    "    if len(paragraph) > 32:\n",
    "        documents.append(\n",
    "            Document(\n",
    "                meta={'name': \"Thus Spoke Zarathustra\"},\n",
    "                content=paragraph\n",
    "            )\n",
    "        )"
   ],
   "metadata": {
    "collapsed": false,
    "ExecuteTime": {
     "end_time": "2024-01-09T11:37:05.329129Z",
     "start_time": "2024-01-09T11:37:05.300376Z"
    }
   },
   "id": "58d95a9e95a75695",
   "execution_count": 3
  },
  {
   "cell_type": "code",
   "outputs": [],
   "source": [
    "document_writer = DocumentWriter(document_store = document_store)\n",
    "indexing_pipeline = Pipeline()\n",
    "indexing_pipeline.add_component(instance=document_embedder, name=\"embedder\")\n",
    "indexing_pipeline.add_component(instance=document_writer, name=\"writer\")\n",
    "indexing_pipeline.connect(\"embedder\", \"writer\")\n",
    "indexing_pipeline.draw(\"indexing_pipeline.png\")\n"
   ],
   "metadata": {
    "collapsed": false,
    "ExecuteTime": {
     "end_time": "2024-01-09T11:37:05.779709Z",
     "start_time": "2024-01-09T11:37:05.326634Z"
    }
   },
   "id": "534df3492935d5ae",
   "execution_count": 4
  },
  {
   "cell_type": "code",
   "outputs": [
    {
     "name": "stdout",
     "output_type": "stream",
     "text": [
      "skipping\n"
     ]
    }
   ],
   "source": [
    "%%script echo skipping\n",
    "indexing_pipeline.run(\n",
    "    {\n",
    "        \"embedder\": {\n",
    "            \"documents\": documents\n",
    "        },\n",
    "        \"writer\": {\n",
    "            \"policy\": DuplicatePolicy.OVERWRITE\n",
    "        }\n",
    "    }\n",
    ")"
   ],
   "metadata": {
    "collapsed": false,
    "ExecuteTime": {
     "end_time": "2024-01-09T11:37:05.814730Z",
     "start_time": "2024-01-09T11:37:05.794029Z"
    }
   },
   "id": "6d04208a18e773a1",
   "execution_count": 5
  },
  {
   "cell_type": "code",
   "outputs": [],
   "source": [
    "retriever = ElasticsearchEmbeddingRetriever(\n",
    "    document_store=document_store,\n",
    "    top_k=10\n",
    ")\n",
    "\n",
    "text_embedder = SentenceTransformersTextEmbedder(\n",
    "        model_name_or_path=\"BAAI/llm-embedder\",\n",
    "        prefix=\"Represent this query for retrieving relevant documents: \"\n",
    "    )\n",
    "\n",
    "template = \"\"\"\n",
    "Given the following information, follow my instruction.\n",
    "\n",
    "Context: \n",
    "{% for document in documents %}\n",
    "    {{ document.content }}\n",
    "{% endfor %}\n",
    "\n",
    "My Instruction: {{ question }}\n",
    "\"\"\"\n",
    "\n",
    "prompt_builder = DynamicChatPromptBuilder(runtime_variables=[\"documents\"])\n"
   ],
   "metadata": {
    "collapsed": false,
    "ExecuteTime": {
     "end_time": "2024-01-09T11:37:05.822726Z",
     "start_time": "2024-01-09T11:37:05.806820Z"
    }
   },
   "id": "7e926fd2c0dee969",
   "execution_count": 6
  },
  {
   "cell_type": "code",
   "outputs": [],
   "source": [
    "llm = OpenAIChatGenerator(api_base_url=\"http://127.0.0.1:42424/v1\", api_key=\"not-needed\")\n",
    "rag_pipeline = Pipeline()\n",
    "rag_pipeline.add_component(\"text_embedder\", text_embedder)\n",
    "rag_pipeline.add_component(\"retriever\", retriever)\n",
    "rag_pipeline.add_component(\"prompt_builder\", prompt_builder)\n",
    "rag_pipeline.add_component(\"llm\", llm)\n",
    "rag_pipeline.connect(\"text_embedder.embedding\", \"retriever.query_embedding\")\n",
    "rag_pipeline.connect(\"retriever\", \"prompt_builder.documents\")\n",
    "rag_pipeline.connect(\"prompt_builder\", \"llm\")\n",
    "#rag_pipeline.draw(\"rag_pipeline.png\")"
   ],
   "metadata": {
    "collapsed": false,
    "ExecuteTime": {
     "end_time": "2024-01-09T11:37:05.832493Z",
     "start_time": "2024-01-09T11:37:05.811201Z"
    }
   },
   "id": "9dcb851e168351b7",
   "execution_count": 7
  },
  {
   "cell_type": "code",
   "outputs": [],
   "source": [
    "\n",
    "\n",
    "def send(message, history):\n",
    "    messages = [ChatMessage.from_user(template)]\n",
    "    response = rag_pipeline.run(\n",
    "        {\n",
    "            \"text_embedder\": {\"text\": message},\n",
    "            \"prompt_builder\": {\n",
    "                \"template_variables\": {\"question\": message},\n",
    "                \"prompt_source\": messages\n",
    "            }\n",
    "        }\n",
    "    )\n",
    "    return response.get('llm').get('replies')[-1].content\n",
    "\n",
    "#send(\"What is a superman?\", None)"
   ],
   "metadata": {
    "collapsed": false,
    "ExecuteTime": {
     "end_time": "2024-01-09T11:41:33.300171Z",
     "start_time": "2024-01-09T11:41:33.296412Z"
    }
   },
   "id": "31bbb1e3449df95a",
   "execution_count": 12
  },
  {
   "cell_type": "code",
   "outputs": [
    {
     "name": "stdout",
     "output_type": "stream",
     "text": [
      "Running on local URL:  http://127.0.0.1:7861\n",
      "\n",
      "To create a public link, set `share=True` in `launch()`.\n"
     ]
    },
    {
     "data": {
      "text/plain": ""
     },
     "execution_count": 13,
     "metadata": {},
     "output_type": "execute_result"
    }
   ],
   "source": [
    "import gradio as gr\n",
    "\n",
    "demo = gr.ChatInterface(fn=send, title=\"RAG2A\")\n",
    "demo.launch(inline=False)"
   ],
   "metadata": {
    "collapsed": false,
    "ExecuteTime": {
     "end_time": "2024-01-09T11:41:37.992029Z",
     "start_time": "2024-01-09T11:41:36.237240Z"
    }
   },
   "id": "685026113ddc7614",
   "execution_count": 13
  }
 ],
 "metadata": {
  "kernelspec": {
   "name": "rag-2a",
   "language": "python",
   "display_name": "RAG 2A"
  },
  "language_info": {
   "codemirror_mode": {
    "name": "ipython",
    "version": 2
   },
   "file_extension": ".py",
   "mimetype": "text/x-python",
   "name": "python",
   "nbconvert_exporter": "python",
   "pygments_lexer": "ipython2",
   "version": "2.7.6"
  }
 },
 "nbformat": 4,
 "nbformat_minor": 5
}
