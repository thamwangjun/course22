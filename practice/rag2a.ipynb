{
 "cells": [
  {
   "cell_type": "code",
   "execution_count": 6,
   "id": "initial_id",
   "metadata": {
    "collapsed": true,
    "ExecuteTime": {
     "end_time": "2024-01-06T11:27:57.200908Z",
     "start_time": "2024-01-06T11:27:38.971608Z"
    }
   },
   "outputs": [
    {
     "name": "stdout",
     "output_type": "stream",
     "text": [
      "Channels:\r\n",
      " - conda-forge\r\n",
      " - defaults\r\n",
      "Platform: osx-arm64\r\n",
      "Collecting package metadata (repodata.json): done\r\n",
      "Solving environment: done\r\n",
      "\r\n",
      "# All requested packages already installed.\r\n",
      "\r\n",
      "\n",
      "Note: you may need to restart the kernel to use updated packages.\n"
     ]
    }
   ],
   "source": [
    "%conda install jupyter pytorch"
   ]
  },
  {
   "cell_type": "code",
   "outputs": [
    {
     "name": "stderr",
     "output_type": "stream",
     "text": [
      "huggingface/tokenizers: The current process just got forked, after parallelism has already been used. Disabling parallelism to avoid deadlocks...\n",
      "To disable this warning, you can either:\n",
      "\t- Avoid using `tokenizers` before the fork if possible\n",
      "\t- Explicitly set the environment variable TOKENIZERS_PARALLELISM=(true | false)\n"
     ]
    },
    {
     "name": "stdout",
     "output_type": "stream",
     "text": [
      "Requirement already satisfied: haystack-ai in /opt/homebrew/Caskroom/miniconda/base/envs/rag2/lib/python3.11/site-packages (2.0.0b3)\r\n",
      "Requirement already satisfied: ollama-haystack in /opt/homebrew/Caskroom/miniconda/base/envs/rag2/lib/python3.11/site-packages (0.0.1)\r\n",
      "Requirement already satisfied: sentence-transformers in /opt/homebrew/Caskroom/miniconda/base/envs/rag2/lib/python3.11/site-packages (2.2.2)\r\n",
      "Collecting txtai[pipeline-data]\r\n",
      "  Downloading txtai-6.3.0-py3-none-any.whl.metadata (24 kB)\r\n",
      "Requirement already satisfied: boilerpy3 in /opt/homebrew/Caskroom/miniconda/base/envs/rag2/lib/python3.11/site-packages (from haystack-ai) (1.0.7)\r\n",
      "Requirement already satisfied: jinja2 in /opt/homebrew/Caskroom/miniconda/base/envs/rag2/lib/python3.11/site-packages (from haystack-ai) (3.1.2)\r\n",
      "Requirement already satisfied: lazy-imports in /opt/homebrew/Caskroom/miniconda/base/envs/rag2/lib/python3.11/site-packages (from haystack-ai) (0.3.1)\r\n",
      "Requirement already satisfied: more-itertools in /opt/homebrew/Caskroom/miniconda/base/envs/rag2/lib/python3.11/site-packages (from haystack-ai) (10.1.0)\r\n",
      "Requirement already satisfied: networkx in /opt/homebrew/Caskroom/miniconda/base/envs/rag2/lib/python3.11/site-packages (from haystack-ai) (3.2.1)\r\n",
      "Requirement already satisfied: openai<1.0.0 in /opt/homebrew/Caskroom/miniconda/base/envs/rag2/lib/python3.11/site-packages (from haystack-ai) (0.28.1)\r\n",
      "Requirement already satisfied: pandas in /opt/homebrew/Caskroom/miniconda/base/envs/rag2/lib/python3.11/site-packages (from haystack-ai) (2.1.4)\r\n",
      "Requirement already satisfied: posthog in /opt/homebrew/Caskroom/miniconda/base/envs/rag2/lib/python3.11/site-packages (from haystack-ai) (3.1.0)\r\n",
      "Requirement already satisfied: pyyaml in /opt/homebrew/Caskroom/miniconda/base/envs/rag2/lib/python3.11/site-packages (from haystack-ai) (6.0.1)\r\n",
      "Requirement already satisfied: rank-bm25 in /opt/homebrew/Caskroom/miniconda/base/envs/rag2/lib/python3.11/site-packages (from haystack-ai) (0.2.2)\r\n",
      "Requirement already satisfied: tenacity in /opt/homebrew/Caskroom/miniconda/base/envs/rag2/lib/python3.11/site-packages (from haystack-ai) (8.2.3)\r\n",
      "Requirement already satisfied: tqdm in /opt/homebrew/Caskroom/miniconda/base/envs/rag2/lib/python3.11/site-packages (from haystack-ai) (4.66.1)\r\n",
      "Requirement already satisfied: typing-extensions in /opt/homebrew/Caskroom/miniconda/base/envs/rag2/lib/python3.11/site-packages (from haystack-ai) (4.9.0)\r\n",
      "Requirement already satisfied: requests in /opt/homebrew/Caskroom/miniconda/base/envs/rag2/lib/python3.11/site-packages (from ollama-haystack) (2.31.0)\r\n",
      "Requirement already satisfied: transformers<5.0.0,>=4.6.0 in /opt/homebrew/Caskroom/miniconda/base/envs/rag2/lib/python3.11/site-packages (from sentence-transformers) (4.36.2)\r\n",
      "Requirement already satisfied: torch>=1.6.0 in /opt/homebrew/Caskroom/miniconda/base/envs/rag2/lib/python3.11/site-packages (from sentence-transformers) (2.1.2)\r\n",
      "Requirement already satisfied: torchvision in /opt/homebrew/Caskroom/miniconda/base/envs/rag2/lib/python3.11/site-packages (from sentence-transformers) (0.16.2)\r\n",
      "Requirement already satisfied: numpy in /opt/homebrew/Caskroom/miniconda/base/envs/rag2/lib/python3.11/site-packages (from sentence-transformers) (1.26.3)\r\n",
      "Requirement already satisfied: scikit-learn in /opt/homebrew/Caskroom/miniconda/base/envs/rag2/lib/python3.11/site-packages (from sentence-transformers) (1.3.2)\r\n",
      "Requirement already satisfied: scipy in /opt/homebrew/Caskroom/miniconda/base/envs/rag2/lib/python3.11/site-packages (from sentence-transformers) (1.11.4)\r\n",
      "Requirement already satisfied: nltk in /opt/homebrew/Caskroom/miniconda/base/envs/rag2/lib/python3.11/site-packages (from sentence-transformers) (3.8.1)\r\n",
      "Requirement already satisfied: sentencepiece in /opt/homebrew/Caskroom/miniconda/base/envs/rag2/lib/python3.11/site-packages (from sentence-transformers) (0.1.99)\r\n",
      "Requirement already satisfied: huggingface-hub>=0.4.0 in /opt/homebrew/Caskroom/miniconda/base/envs/rag2/lib/python3.11/site-packages (from sentence-transformers) (0.20.2)\r\n",
      "Collecting faiss-cpu>=1.7.1.post2 (from txtai[pipeline-data])\r\n",
      "  Using cached faiss_cpu-1.7.4-cp311-cp311-macosx_11_0_arm64.whl (2.7 MB)\r\n",
      "Requirement already satisfied: regex>=2022.8.17 in /opt/homebrew/Caskroom/miniconda/base/envs/rag2/lib/python3.11/site-packages (from txtai[pipeline-data]) (2023.12.25)\r\n",
      "Requirement already satisfied: beautifulsoup4>=4.9.3 in /opt/homebrew/Caskroom/miniconda/base/envs/rag2/lib/python3.11/site-packages (from txtai[pipeline-data]) (4.12.2)\r\n",
      "Collecting tika>=1.24 (from txtai[pipeline-data])\r\n",
      "  Using cached tika-2.6.0-py3-none-any.whl\r\n",
      "Requirement already satisfied: soupsieve>1.2 in /opt/homebrew/Caskroom/miniconda/base/envs/rag2/lib/python3.11/site-packages (from beautifulsoup4>=4.9.3->txtai[pipeline-data]) (2.5)\r\n",
      "Requirement already satisfied: filelock in /opt/homebrew/Caskroom/miniconda/base/envs/rag2/lib/python3.11/site-packages (from huggingface-hub>=0.4.0->sentence-transformers) (3.13.1)\r\n",
      "Requirement already satisfied: fsspec>=2023.5.0 in /opt/homebrew/Caskroom/miniconda/base/envs/rag2/lib/python3.11/site-packages (from huggingface-hub>=0.4.0->sentence-transformers) (2023.12.2)\r\n",
      "Requirement already satisfied: packaging>=20.9 in /opt/homebrew/Caskroom/miniconda/base/envs/rag2/lib/python3.11/site-packages (from huggingface-hub>=0.4.0->sentence-transformers) (23.2)\r\n",
      "Requirement already satisfied: click in /opt/homebrew/Caskroom/miniconda/base/envs/rag2/lib/python3.11/site-packages (from nltk->sentence-transformers) (8.1.7)\r\n",
      "Requirement already satisfied: joblib in /opt/homebrew/Caskroom/miniconda/base/envs/rag2/lib/python3.11/site-packages (from nltk->sentence-transformers) (1.3.2)\r\n",
      "Requirement already satisfied: aiohttp in /opt/homebrew/Caskroom/miniconda/base/envs/rag2/lib/python3.11/site-packages (from openai<1.0.0->haystack-ai) (3.9.1)\r\n",
      "Requirement already satisfied: python-dateutil>=2.8.2 in /opt/homebrew/Caskroom/miniconda/base/envs/rag2/lib/python3.11/site-packages (from pandas->haystack-ai) (2.8.2)\r\n",
      "Requirement already satisfied: pytz>=2020.1 in /opt/homebrew/Caskroom/miniconda/base/envs/rag2/lib/python3.11/site-packages (from pandas->haystack-ai) (2023.3.post1)\r\n",
      "Requirement already satisfied: tzdata>=2022.1 in /opt/homebrew/Caskroom/miniconda/base/envs/rag2/lib/python3.11/site-packages (from pandas->haystack-ai) (2023.4)\r\n",
      "Requirement already satisfied: charset-normalizer<4,>=2 in /opt/homebrew/Caskroom/miniconda/base/envs/rag2/lib/python3.11/site-packages (from requests->ollama-haystack) (3.3.2)\r\n",
      "Requirement already satisfied: idna<4,>=2.5 in /opt/homebrew/Caskroom/miniconda/base/envs/rag2/lib/python3.11/site-packages (from requests->ollama-haystack) (3.6)\r\n",
      "Requirement already satisfied: urllib3<3,>=1.21.1 in /opt/homebrew/Caskroom/miniconda/base/envs/rag2/lib/python3.11/site-packages (from requests->ollama-haystack) (2.1.0)\r\n",
      "Requirement already satisfied: certifi>=2017.4.17 in /opt/homebrew/Caskroom/miniconda/base/envs/rag2/lib/python3.11/site-packages (from requests->ollama-haystack) (2023.11.17)\r\n",
      "Requirement already satisfied: setuptools in /opt/homebrew/Caskroom/miniconda/base/envs/rag2/lib/python3.11/site-packages (from tika>=1.24->txtai[pipeline-data]) (69.0.3)\r\n",
      "Requirement already satisfied: sympy in /opt/homebrew/Caskroom/miniconda/base/envs/rag2/lib/python3.11/site-packages (from torch>=1.6.0->sentence-transformers) (1.12)\r\n",
      "Requirement already satisfied: tokenizers<0.19,>=0.14 in /opt/homebrew/Caskroom/miniconda/base/envs/rag2/lib/python3.11/site-packages (from transformers<5.0.0,>=4.6.0->sentence-transformers) (0.15.0)\r\n",
      "Requirement already satisfied: safetensors>=0.3.1 in /opt/homebrew/Caskroom/miniconda/base/envs/rag2/lib/python3.11/site-packages (from transformers<5.0.0,>=4.6.0->sentence-transformers) (0.4.1)\r\n",
      "Requirement already satisfied: MarkupSafe>=2.0 in /opt/homebrew/Caskroom/miniconda/base/envs/rag2/lib/python3.11/site-packages (from jinja2->haystack-ai) (2.1.3)\r\n",
      "Requirement already satisfied: six>=1.5 in /opt/homebrew/Caskroom/miniconda/base/envs/rag2/lib/python3.11/site-packages (from posthog->haystack-ai) (1.16.0)\r\n",
      "Requirement already satisfied: monotonic>=1.5 in /opt/homebrew/Caskroom/miniconda/base/envs/rag2/lib/python3.11/site-packages (from posthog->haystack-ai) (1.6)\r\n",
      "Requirement already satisfied: backoff>=1.10.0 in /opt/homebrew/Caskroom/miniconda/base/envs/rag2/lib/python3.11/site-packages (from posthog->haystack-ai) (2.2.1)\r\n",
      "Requirement already satisfied: threadpoolctl>=2.0.0 in /opt/homebrew/Caskroom/miniconda/base/envs/rag2/lib/python3.11/site-packages (from scikit-learn->sentence-transformers) (3.2.0)\r\n",
      "Requirement already satisfied: pillow!=8.3.*,>=5.3.0 in /opt/homebrew/Caskroom/miniconda/base/envs/rag2/lib/python3.11/site-packages (from torchvision->sentence-transformers) (10.2.0)\r\n",
      "Requirement already satisfied: attrs>=17.3.0 in /opt/homebrew/Caskroom/miniconda/base/envs/rag2/lib/python3.11/site-packages (from aiohttp->openai<1.0.0->haystack-ai) (23.2.0)\r\n",
      "Requirement already satisfied: multidict<7.0,>=4.5 in /opt/homebrew/Caskroom/miniconda/base/envs/rag2/lib/python3.11/site-packages (from aiohttp->openai<1.0.0->haystack-ai) (6.0.4)\r\n",
      "Requirement already satisfied: yarl<2.0,>=1.0 in /opt/homebrew/Caskroom/miniconda/base/envs/rag2/lib/python3.11/site-packages (from aiohttp->openai<1.0.0->haystack-ai) (1.9.4)\r\n",
      "Requirement already satisfied: frozenlist>=1.1.1 in /opt/homebrew/Caskroom/miniconda/base/envs/rag2/lib/python3.11/site-packages (from aiohttp->openai<1.0.0->haystack-ai) (1.4.1)\r\n",
      "Requirement already satisfied: aiosignal>=1.1.2 in /opt/homebrew/Caskroom/miniconda/base/envs/rag2/lib/python3.11/site-packages (from aiohttp->openai<1.0.0->haystack-ai) (1.3.1)\r\n",
      "Requirement already satisfied: mpmath>=0.19 in /opt/homebrew/Caskroom/miniconda/base/envs/rag2/lib/python3.11/site-packages (from sympy->torch>=1.6.0->sentence-transformers) (1.3.0)\r\n",
      "Downloading txtai-6.3.0-py3-none-any.whl (205 kB)\r\n",
      "\u001B[2K   \u001B[90m━━━━━━━━━━━━━━━━━━━━━━━━━━━━━━━━━━━━━━━━\u001B[0m \u001B[32m205.2/205.2 kB\u001B[0m \u001B[31m5.1 MB/s\u001B[0m eta \u001B[36m0:00:00\u001B[0m00:01\u001B[0m\r\n",
      "\u001B[?25hInstalling collected packages: faiss-cpu, tika, txtai\r\n",
      "Successfully installed faiss-cpu-1.7.4 tika-2.6.0 txtai-6.3.0\r\n",
      "Note: you may need to restart the kernel to use updated packages.\n"
     ]
    }
   ],
   "source": [
    "%pip install haystack-ai ollama-haystack sentence-transformers 'txtai[pipeline-data]'"
   ],
   "metadata": {
    "collapsed": false,
    "ExecuteTime": {
     "end_time": "2024-01-06T12:04:04.045933Z",
     "start_time": "2024-01-06T12:04:00.473880Z"
    }
   },
   "id": "51083bd6288ec257",
   "execution_count": 10
  },
  {
   "cell_type": "code",
   "outputs": [
    {
     "data": {
      "text/plain": "Batches:   0%|          | 0/1 [00:00<?, ?it/s]",
      "application/vnd.jupyter.widget-view+json": {
       "version_major": 2,
       "version_minor": 0,
       "model_id": "233f8c11942f4bb0950fcfb845ad3bc1"
      }
     },
     "metadata": {},
     "output_type": "display_data"
    },
    {
     "data": {
      "text/plain": "Batches:   0%|          | 0/1 [00:00<?, ?it/s]",
      "application/vnd.jupyter.widget-view+json": {
       "version_major": 2,
       "version_minor": 0,
       "model_id": "fe6b8d72c44640819f6fc9a257da3b7d"
      }
     },
     "metadata": {},
     "output_type": "display_data"
    },
    {
     "name": "stdout",
     "output_type": "stream",
     "text": [
      " Mark lives in Berlin. This information is given in the first document.\n"
     ]
    }
   ],
   "source": [
    "from haystack import Pipeline, Document\n",
    "from haystack.document_stores import InMemoryDocumentStore\n",
    "from haystack.components.retrievers import InMemoryBM25Retriever, InMemoryEmbeddingRetriever\n",
    "from ollama_haystack import OllamaGenerator\n",
    "from haystack.components.builders.answer_builder import AnswerBuilder\n",
    "from haystack.components.builders.prompt_builder import PromptBuilder\n",
    "from haystack.components.embedders import SentenceTransformersTextEmbedder, SentenceTransformersDocumentEmbedder\n",
    "from haystack.components.writers import DocumentWriter\n",
    "\n",
    "prompt_template = \"\"\"\n",
    "Given these documents, answer the question.\n",
    "Documents:\n",
    "{% for doc in documents %}\n",
    "    {{ doc.content }}\n",
    "{% endfor %}\n",
    "Question: {{question}}\n",
    "Answer:\n",
    "\"\"\"\n",
    "\n",
    "document_store = InMemoryDocumentStore(embedding_similarity_function=\"cosine\")\n",
    "\n",
    "document_embedder = SentenceTransformersDocumentEmbedder(model_name_or_path=\"BAAI/bge-large-en-v1.5\")\n",
    "document_embedder.warm_up()\n",
    "\n",
    "retriever = InMemoryEmbeddingRetriever(document_store=document_store)\n",
    "prompt_builder = PromptBuilder(template=prompt_template)\n",
    "llm = OllamaGenerator(model=\"mixtral-loc\",\n",
    "                      url=\"http://localhost:11434/api/generate\",\n",
    "                      generation_kwargs={\n",
    "                          \"num_predict\": 1024,\n",
    "                          \"temperature\": 0.8,\n",
    "                          \"seed\": 42,\n",
    "                          \"num_gpu\": 1,\n",
    "                          \"num_ctx\": 32768\n",
    "                      })\n",
    "answer_builder = AnswerBuilder()\n",
    "\n",
    "documents = [\n",
    "    Document(content=\"My name is Jean and I live in Paris.\"),\n",
    "    Document(content=\"My name is Mark and I live in Berlin.\"),\n",
    "    Document(content=\"My name is Giorgio and I live in Rome.\")\n",
    "]\n",
    "\n",
    "document_writer = DocumentWriter(document_store = document_store)\n",
    "indexing_pipeline = Pipeline()\n",
    "indexing_pipeline.add_component(instance=document_embedder, name=\"embedder\")\n",
    "indexing_pipeline.add_component(instance=document_writer, name=\"writer\")\n",
    "indexing_pipeline.connect(\"embedder\", \"writer\")\n",
    "indexing_pipeline.run({\"embedder\": {\"documents\": documents}})\n",
    "\n",
    "rag_pipeline = Pipeline()\n",
    "rag_pipeline.add_component(\"text_embedder\", SentenceTransformersTextEmbedder(model_name_or_path=\"BAAI/bge-large-en-v1.5\"))\n",
    "rag_pipeline.add_component(\"retriever\", retriever)\n",
    "rag_pipeline.add_component(\"prompt_builder\", prompt_builder)\n",
    "rag_pipeline.add_component(\"llm\", llm)\n",
    "rag_pipeline.add_component(\"answer_builder\", answer_builder)\n",
    "rag_pipeline.connect(\"text_embedder.embedding\", \"retriever.query_embedding\")\n",
    "rag_pipeline.connect(\"retriever\", \"prompt_builder.documents\")\n",
    "rag_pipeline.connect(\"prompt_builder\", \"llm\")\n",
    "rag_pipeline.connect(\"llm.replies\", \"answer_builder.replies\")\n",
    "\n",
    "rag_pipeline.draw(\"rag_pipeline.png\")\n",
    "\n",
    "question = \"Where does Mark live?\"\n",
    "results = rag_pipeline.run(\n",
    "    {\n",
    "        \"text_embedder\": {\"text\": question},\n",
    "        \"prompt_builder\": {\"question\": question},\n",
    "        \"answer_builder\": {\"query\": question},\n",
    "    }\n",
    ")\n",
    "\n",
    "for answer in results[\"answer_builder\"][\"answers\"]:\n",
    "    print(answer.data)"
   ],
   "metadata": {
    "collapsed": false,
    "ExecuteTime": {
     "end_time": "2024-01-06T11:58:55.415070Z",
     "start_time": "2024-01-06T11:58:47.198062Z"
    }
   },
   "id": "8501ec8708cd5e0",
   "execution_count": 8
  }
 ],
 "metadata": {
  "kernelspec": {
   "name": "rag-2a",
   "language": "python",
   "display_name": "RAG 2A"
  },
  "language_info": {
   "codemirror_mode": {
    "name": "ipython",
    "version": 2
   },
   "file_extension": ".py",
   "mimetype": "text/x-python",
   "name": "python",
   "nbconvert_exporter": "python",
   "pygments_lexer": "ipython2",
   "version": "2.7.6"
  }
 },
 "nbformat": 4,
 "nbformat_minor": 5
}
