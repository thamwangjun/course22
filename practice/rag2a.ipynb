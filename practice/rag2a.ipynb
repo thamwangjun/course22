{
 "cells": [
  {
   "cell_type": "code",
   "outputs": [
    {
     "name": "stdout",
     "output_type": "stream",
     "text": [
      "Channels:\r\n",
      " - conda-forge\r\n",
      " - defaults\r\n",
      "Platform: osx-arm64\r\n",
      "Collecting package metadata (repodata.json): done\r\n",
      "Solving environment: done\r\n",
      "\r\n",
      "# All requested packages already installed.\r\n",
      "\r\n",
      "\n",
      "Note: you may need to restart the kernel to use updated packages.\n",
      "Collecting git+https://github.com/deepset-ai/haystack.git#main\r\n",
      "  Cloning https://github.com/deepset-ai/haystack.git to /private/var/folders/43/13h_2sgd3bxflq4m898ym8bm0000gn/T/pip-req-build-kqmxrynq\r\n",
      "  Running command git clone --filter=blob:none --quiet https://github.com/deepset-ai/haystack.git /private/var/folders/43/13h_2sgd3bxflq4m898ym8bm0000gn/T/pip-req-build-kqmxrynq\r\n",
      "  Resolved https://github.com/deepset-ai/haystack.git to commit e6d6ce1c73d62e087cf197e82e831e4216fc33c9\r\n",
      "  Installing build dependencies ... \u001B[?25ldone\r\n",
      "\u001B[?25h  Getting requirements to build wheel ... \u001B[?25ldone\r\n",
      "\u001B[?25h  Preparing metadata (pyproject.toml) ... \u001B[?25ldone\r\n",
      "\u001B[?25hRequirement already satisfied: sentence-transformers in /opt/homebrew/Caskroom/miniconda/base/envs/rag2/lib/python3.11/site-packages (2.2.2)\r\n",
      "Requirement already satisfied: qdrant-haystack in /opt/homebrew/Caskroom/miniconda/base/envs/rag2/lib/python3.11/site-packages (2.0.0)\r\n",
      "Requirement already satisfied: gradio in /opt/homebrew/Caskroom/miniconda/base/envs/rag2/lib/python3.11/site-packages (4.13.0)\r\n",
      "Requirement already satisfied: txtai[pipeline-data] in /opt/homebrew/Caskroom/miniconda/base/envs/rag2/lib/python3.11/site-packages (6.3.0)\r\n",
      "Requirement already satisfied: boilerpy3 in /opt/homebrew/Caskroom/miniconda/base/envs/rag2/lib/python3.11/site-packages (from haystack-ai==2.0.0b4) (1.0.7)\r\n",
      "Requirement already satisfied: haystack-bm25 in /opt/homebrew/Caskroom/miniconda/base/envs/rag2/lib/python3.11/site-packages (from haystack-ai==2.0.0b4) (1.0.2)\r\n",
      "Requirement already satisfied: jinja2 in /opt/homebrew/Caskroom/miniconda/base/envs/rag2/lib/python3.11/site-packages (from haystack-ai==2.0.0b4) (3.1.2)\r\n",
      "Requirement already satisfied: lazy-imports in /opt/homebrew/Caskroom/miniconda/base/envs/rag2/lib/python3.11/site-packages (from haystack-ai==2.0.0b4) (0.3.1)\r\n",
      "Requirement already satisfied: more-itertools in /opt/homebrew/Caskroom/miniconda/base/envs/rag2/lib/python3.11/site-packages (from haystack-ai==2.0.0b4) (10.1.0)\r\n",
      "Requirement already satisfied: networkx in /opt/homebrew/Caskroom/miniconda/base/envs/rag2/lib/python3.11/site-packages (from haystack-ai==2.0.0b4) (3.2.1)\r\n",
      "Requirement already satisfied: openai>=1.1.0 in /opt/homebrew/Caskroom/miniconda/base/envs/rag2/lib/python3.11/site-packages (from haystack-ai==2.0.0b4) (1.7.0)\r\n",
      "Requirement already satisfied: pandas in /opt/homebrew/Caskroom/miniconda/base/envs/rag2/lib/python3.11/site-packages (from haystack-ai==2.0.0b4) (2.1.4)\r\n",
      "Requirement already satisfied: posthog in /opt/homebrew/Caskroom/miniconda/base/envs/rag2/lib/python3.11/site-packages (from haystack-ai==2.0.0b4) (3.1.0)\r\n",
      "Requirement already satisfied: pyyaml in /opt/homebrew/Caskroom/miniconda/base/envs/rag2/lib/python3.11/site-packages (from haystack-ai==2.0.0b4) (6.0.1)\r\n",
      "Requirement already satisfied: tenacity in /opt/homebrew/Caskroom/miniconda/base/envs/rag2/lib/python3.11/site-packages (from haystack-ai==2.0.0b4) (8.2.3)\r\n",
      "Requirement already satisfied: tqdm in /opt/homebrew/Caskroom/miniconda/base/envs/rag2/lib/python3.11/site-packages (from haystack-ai==2.0.0b4) (4.66.1)\r\n",
      "Requirement already satisfied: typing-extensions in /opt/homebrew/Caskroom/miniconda/base/envs/rag2/lib/python3.11/site-packages (from haystack-ai==2.0.0b4) (4.9.0)\r\n",
      "Requirement already satisfied: transformers<5.0.0,>=4.6.0 in /opt/homebrew/Caskroom/miniconda/base/envs/rag2/lib/python3.11/site-packages (from sentence-transformers) (4.36.2)\r\n",
      "Requirement already satisfied: torch>=1.6.0 in /opt/homebrew/Caskroom/miniconda/base/envs/rag2/lib/python3.11/site-packages (from sentence-transformers) (2.1.2)\r\n",
      "Requirement already satisfied: torchvision in /opt/homebrew/Caskroom/miniconda/base/envs/rag2/lib/python3.11/site-packages (from sentence-transformers) (0.16.2)\r\n",
      "Requirement already satisfied: numpy in /opt/homebrew/Caskroom/miniconda/base/envs/rag2/lib/python3.11/site-packages (from sentence-transformers) (1.26.3)\r\n",
      "Requirement already satisfied: scikit-learn in /opt/homebrew/Caskroom/miniconda/base/envs/rag2/lib/python3.11/site-packages (from sentence-transformers) (1.3.2)\r\n",
      "Requirement already satisfied: scipy in /opt/homebrew/Caskroom/miniconda/base/envs/rag2/lib/python3.11/site-packages (from sentence-transformers) (1.11.4)\r\n",
      "Requirement already satisfied: nltk in /opt/homebrew/Caskroom/miniconda/base/envs/rag2/lib/python3.11/site-packages (from sentence-transformers) (3.8.1)\r\n",
      "Requirement already satisfied: sentencepiece in /opt/homebrew/Caskroom/miniconda/base/envs/rag2/lib/python3.11/site-packages (from sentence-transformers) (0.1.99)\r\n",
      "Requirement already satisfied: huggingface-hub>=0.4.0 in /opt/homebrew/Caskroom/miniconda/base/envs/rag2/lib/python3.11/site-packages (from sentence-transformers) (0.20.2)\r\n",
      "Requirement already satisfied: faiss-cpu>=1.7.1.post2 in /opt/homebrew/Caskroom/miniconda/base/envs/rag2/lib/python3.11/site-packages (from txtai[pipeline-data]) (1.7.4)\r\n",
      "Requirement already satisfied: regex>=2022.8.17 in /opt/homebrew/Caskroom/miniconda/base/envs/rag2/lib/python3.11/site-packages (from txtai[pipeline-data]) (2023.12.25)\r\n",
      "Requirement already satisfied: beautifulsoup4>=4.9.3 in /opt/homebrew/Caskroom/miniconda/base/envs/rag2/lib/python3.11/site-packages (from txtai[pipeline-data]) (4.12.2)\r\n",
      "Requirement already satisfied: tika>=1.24 in /opt/homebrew/Caskroom/miniconda/base/envs/rag2/lib/python3.11/site-packages (from txtai[pipeline-data]) (2.6.0)\r\n",
      "Requirement already satisfied: qdrant-client in /opt/homebrew/Caskroom/miniconda/base/envs/rag2/lib/python3.11/site-packages (from qdrant-haystack) (1.7.0)\r\n",
      "Requirement already satisfied: aiofiles<24.0,>=22.0 in /opt/homebrew/Caskroom/miniconda/base/envs/rag2/lib/python3.11/site-packages (from gradio) (23.2.1)\r\n",
      "Requirement already satisfied: altair<6.0,>=4.2.0 in /opt/homebrew/Caskroom/miniconda/base/envs/rag2/lib/python3.11/site-packages (from gradio) (5.2.0)\r\n",
      "Requirement already satisfied: fastapi in /opt/homebrew/Caskroom/miniconda/base/envs/rag2/lib/python3.11/site-packages (from gradio) (0.108.0)\r\n",
      "Requirement already satisfied: ffmpy in /opt/homebrew/Caskroom/miniconda/base/envs/rag2/lib/python3.11/site-packages (from gradio) (0.3.1)\r\n",
      "Requirement already satisfied: gradio-client==0.8.0 in /opt/homebrew/Caskroom/miniconda/base/envs/rag2/lib/python3.11/site-packages (from gradio) (0.8.0)\r\n",
      "Requirement already satisfied: httpx in /opt/homebrew/Caskroom/miniconda/base/envs/rag2/lib/python3.11/site-packages (from gradio) (0.26.0)\r\n",
      "Requirement already satisfied: importlib-resources<7.0,>=1.3 in /opt/homebrew/Caskroom/miniconda/base/envs/rag2/lib/python3.11/site-packages (from gradio) (6.1.1)\r\n",
      "Requirement already satisfied: markupsafe~=2.0 in /opt/homebrew/Caskroom/miniconda/base/envs/rag2/lib/python3.11/site-packages (from gradio) (2.1.3)\r\n",
      "Requirement already satisfied: matplotlib~=3.0 in /opt/homebrew/Caskroom/miniconda/base/envs/rag2/lib/python3.11/site-packages (from gradio) (3.8.2)\r\n",
      "Requirement already satisfied: orjson~=3.0 in /opt/homebrew/Caskroom/miniconda/base/envs/rag2/lib/python3.11/site-packages (from gradio) (3.9.10)\r\n",
      "Requirement already satisfied: packaging in /opt/homebrew/Caskroom/miniconda/base/envs/rag2/lib/python3.11/site-packages (from gradio) (23.2)\r\n",
      "Requirement already satisfied: pillow<11.0,>=8.0 in /opt/homebrew/Caskroom/miniconda/base/envs/rag2/lib/python3.11/site-packages (from gradio) (10.2.0)\r\n",
      "Requirement already satisfied: pydantic>=2.0 in /opt/homebrew/Caskroom/miniconda/base/envs/rag2/lib/python3.11/site-packages (from gradio) (2.5.3)\r\n",
      "Requirement already satisfied: pydub in /opt/homebrew/Caskroom/miniconda/base/envs/rag2/lib/python3.11/site-packages (from gradio) (0.25.1)\r\n",
      "Requirement already satisfied: python-multipart in /opt/homebrew/Caskroom/miniconda/base/envs/rag2/lib/python3.11/site-packages (from gradio) (0.0.6)\r\n",
      "Requirement already satisfied: semantic-version~=2.0 in /opt/homebrew/Caskroom/miniconda/base/envs/rag2/lib/python3.11/site-packages (from gradio) (2.10.0)\r\n",
      "Requirement already satisfied: tomlkit==0.12.0 in /opt/homebrew/Caskroom/miniconda/base/envs/rag2/lib/python3.11/site-packages (from gradio) (0.12.0)\r\n",
      "Requirement already satisfied: typer<1.0,>=0.9 in /opt/homebrew/Caskroom/miniconda/base/envs/rag2/lib/python3.11/site-packages (from typer[all]<1.0,>=0.9->gradio) (0.9.0)\r\n",
      "Requirement already satisfied: uvicorn>=0.14.0 in /opt/homebrew/Caskroom/miniconda/base/envs/rag2/lib/python3.11/site-packages (from gradio) (0.25.0)\r\n",
      "Requirement already satisfied: fsspec in /opt/homebrew/Caskroom/miniconda/base/envs/rag2/lib/python3.11/site-packages (from gradio-client==0.8.0->gradio) (2023.12.2)\r\n",
      "Requirement already satisfied: websockets<12.0,>=10.0 in /opt/homebrew/Caskroom/miniconda/base/envs/rag2/lib/python3.11/site-packages (from gradio-client==0.8.0->gradio) (11.0.3)\r\n",
      "Requirement already satisfied: jsonschema>=3.0 in /opt/homebrew/Caskroom/miniconda/base/envs/rag2/lib/python3.11/site-packages (from altair<6.0,>=4.2.0->gradio) (4.20.0)\r\n",
      "Requirement already satisfied: toolz in /opt/homebrew/Caskroom/miniconda/base/envs/rag2/lib/python3.11/site-packages (from altair<6.0,>=4.2.0->gradio) (0.12.0)\r\n",
      "Requirement already satisfied: soupsieve>1.2 in /opt/homebrew/Caskroom/miniconda/base/envs/rag2/lib/python3.11/site-packages (from beautifulsoup4>=4.9.3->txtai[pipeline-data]) (2.5)\r\n",
      "Requirement already satisfied: filelock in /opt/homebrew/Caskroom/miniconda/base/envs/rag2/lib/python3.11/site-packages (from huggingface-hub>=0.4.0->sentence-transformers) (3.13.1)\r\n",
      "Requirement already satisfied: requests in /opt/homebrew/Caskroom/miniconda/base/envs/rag2/lib/python3.11/site-packages (from huggingface-hub>=0.4.0->sentence-transformers) (2.31.0)\r\n",
      "Requirement already satisfied: contourpy>=1.0.1 in /opt/homebrew/Caskroom/miniconda/base/envs/rag2/lib/python3.11/site-packages (from matplotlib~=3.0->gradio) (1.2.0)\r\n",
      "Requirement already satisfied: cycler>=0.10 in /opt/homebrew/Caskroom/miniconda/base/envs/rag2/lib/python3.11/site-packages (from matplotlib~=3.0->gradio) (0.12.1)\r\n",
      "Requirement already satisfied: fonttools>=4.22.0 in /opt/homebrew/Caskroom/miniconda/base/envs/rag2/lib/python3.11/site-packages (from matplotlib~=3.0->gradio) (4.47.0)\r\n",
      "Requirement already satisfied: kiwisolver>=1.3.1 in /opt/homebrew/Caskroom/miniconda/base/envs/rag2/lib/python3.11/site-packages (from matplotlib~=3.0->gradio) (1.4.5)\r\n",
      "Requirement already satisfied: pyparsing>=2.3.1 in /opt/homebrew/Caskroom/miniconda/base/envs/rag2/lib/python3.11/site-packages (from matplotlib~=3.0->gradio) (3.1.1)\r\n",
      "Requirement already satisfied: python-dateutil>=2.7 in /opt/homebrew/Caskroom/miniconda/base/envs/rag2/lib/python3.11/site-packages (from matplotlib~=3.0->gradio) (2.8.2)\r\n",
      "Requirement already satisfied: click in /opt/homebrew/Caskroom/miniconda/base/envs/rag2/lib/python3.11/site-packages (from nltk->sentence-transformers) (8.1.7)\r\n",
      "Requirement already satisfied: joblib in /opt/homebrew/Caskroom/miniconda/base/envs/rag2/lib/python3.11/site-packages (from nltk->sentence-transformers) (1.3.2)\r\n",
      "Requirement already satisfied: anyio<5,>=3.5.0 in /opt/homebrew/Caskroom/miniconda/base/envs/rag2/lib/python3.11/site-packages (from openai>=1.1.0->haystack-ai==2.0.0b4) (4.2.0)\r\n",
      "Requirement already satisfied: distro<2,>=1.7.0 in /opt/homebrew/Caskroom/miniconda/base/envs/rag2/lib/python3.11/site-packages (from openai>=1.1.0->haystack-ai==2.0.0b4) (1.9.0)\r\n",
      "Requirement already satisfied: sniffio in /opt/homebrew/Caskroom/miniconda/base/envs/rag2/lib/python3.11/site-packages (from openai>=1.1.0->haystack-ai==2.0.0b4) (1.3.0)\r\n",
      "Requirement already satisfied: certifi in /opt/homebrew/Caskroom/miniconda/base/envs/rag2/lib/python3.11/site-packages (from httpx->gradio) (2023.11.17)\r\n",
      "Requirement already satisfied: httpcore==1.* in /opt/homebrew/Caskroom/miniconda/base/envs/rag2/lib/python3.11/site-packages (from httpx->gradio) (1.0.2)\r\n",
      "Requirement already satisfied: idna in /opt/homebrew/Caskroom/miniconda/base/envs/rag2/lib/python3.11/site-packages (from httpx->gradio) (3.6)\r\n",
      "Requirement already satisfied: h11<0.15,>=0.13 in /opt/homebrew/Caskroom/miniconda/base/envs/rag2/lib/python3.11/site-packages (from httpcore==1.*->httpx->gradio) (0.14.0)\r\n",
      "Requirement already satisfied: pytz>=2020.1 in /opt/homebrew/Caskroom/miniconda/base/envs/rag2/lib/python3.11/site-packages (from pandas->haystack-ai==2.0.0b4) (2023.3.post1)\r\n",
      "Requirement already satisfied: tzdata>=2022.1 in /opt/homebrew/Caskroom/miniconda/base/envs/rag2/lib/python3.11/site-packages (from pandas->haystack-ai==2.0.0b4) (2023.4)\r\n",
      "Requirement already satisfied: annotated-types>=0.4.0 in /opt/homebrew/Caskroom/miniconda/base/envs/rag2/lib/python3.11/site-packages (from pydantic>=2.0->gradio) (0.6.0)\r\n",
      "Requirement already satisfied: pydantic-core==2.14.6 in /opt/homebrew/Caskroom/miniconda/base/envs/rag2/lib/python3.11/site-packages (from pydantic>=2.0->gradio) (2.14.6)\r\n",
      "Requirement already satisfied: setuptools in /opt/homebrew/Caskroom/miniconda/base/envs/rag2/lib/python3.11/site-packages (from tika>=1.24->txtai[pipeline-data]) (69.0.3)\r\n",
      "Requirement already satisfied: sympy in /opt/homebrew/Caskroom/miniconda/base/envs/rag2/lib/python3.11/site-packages (from torch>=1.6.0->sentence-transformers) (1.12)\r\n",
      "Requirement already satisfied: tokenizers<0.19,>=0.14 in /opt/homebrew/Caskroom/miniconda/base/envs/rag2/lib/python3.11/site-packages (from transformers<5.0.0,>=4.6.0->sentence-transformers) (0.15.0)\r\n",
      "Requirement already satisfied: safetensors>=0.3.1 in /opt/homebrew/Caskroom/miniconda/base/envs/rag2/lib/python3.11/site-packages (from transformers<5.0.0,>=4.6.0->sentence-transformers) (0.4.1)\r\n",
      "Requirement already satisfied: colorama<0.5.0,>=0.4.3 in /opt/homebrew/Caskroom/miniconda/base/envs/rag2/lib/python3.11/site-packages (from typer[all]<1.0,>=0.9->gradio) (0.4.6)\r\n",
      "Requirement already satisfied: shellingham<2.0.0,>=1.3.0 in /opt/homebrew/Caskroom/miniconda/base/envs/rag2/lib/python3.11/site-packages (from typer[all]<1.0,>=0.9->gradio) (1.5.4)\r\n",
      "Requirement already satisfied: rich<14.0.0,>=10.11.0 in /opt/homebrew/Caskroom/miniconda/base/envs/rag2/lib/python3.11/site-packages (from typer[all]<1.0,>=0.9->gradio) (13.7.0)\r\n",
      "Requirement already satisfied: starlette<0.33.0,>=0.29.0 in /opt/homebrew/Caskroom/miniconda/base/envs/rag2/lib/python3.11/site-packages (from fastapi->gradio) (0.32.0.post1)\r\n",
      "Requirement already satisfied: six>=1.5 in /opt/homebrew/Caskroom/miniconda/base/envs/rag2/lib/python3.11/site-packages (from posthog->haystack-ai==2.0.0b4) (1.16.0)\r\n",
      "Requirement already satisfied: monotonic>=1.5 in /opt/homebrew/Caskroom/miniconda/base/envs/rag2/lib/python3.11/site-packages (from posthog->haystack-ai==2.0.0b4) (1.6)\r\n",
      "Requirement already satisfied: backoff>=1.10.0 in /opt/homebrew/Caskroom/miniconda/base/envs/rag2/lib/python3.11/site-packages (from posthog->haystack-ai==2.0.0b4) (2.2.1)\r\n",
      "Requirement already satisfied: grpcio>=1.41.0 in /opt/homebrew/Caskroom/miniconda/base/envs/rag2/lib/python3.11/site-packages (from qdrant-client->qdrant-haystack) (1.60.0)\r\n",
      "Requirement already satisfied: grpcio-tools>=1.41.0 in /opt/homebrew/Caskroom/miniconda/base/envs/rag2/lib/python3.11/site-packages (from qdrant-client->qdrant-haystack) (1.60.0)\r\n",
      "Requirement already satisfied: portalocker<3.0.0,>=2.7.0 in /opt/homebrew/Caskroom/miniconda/base/envs/rag2/lib/python3.11/site-packages (from qdrant-client->qdrant-haystack) (2.8.2)\r\n",
      "Requirement already satisfied: urllib3<2.0.0,>=1.26.14 in /opt/homebrew/Caskroom/miniconda/base/envs/rag2/lib/python3.11/site-packages (from qdrant-client->qdrant-haystack) (1.26.18)\r\n",
      "Requirement already satisfied: threadpoolctl>=2.0.0 in /opt/homebrew/Caskroom/miniconda/base/envs/rag2/lib/python3.11/site-packages (from scikit-learn->sentence-transformers) (3.2.0)\r\n",
      "Requirement already satisfied: protobuf<5.0dev,>=4.21.6 in /opt/homebrew/Caskroom/miniconda/base/envs/rag2/lib/python3.11/site-packages (from grpcio-tools>=1.41.0->qdrant-client->qdrant-haystack) (4.25.1)\r\n",
      "Requirement already satisfied: h2<5,>=3 in /opt/homebrew/Caskroom/miniconda/base/envs/rag2/lib/python3.11/site-packages (from httpx[http2]>=0.14.0->qdrant-client->qdrant-haystack) (4.1.0)\r\n",
      "Requirement already satisfied: attrs>=22.2.0 in /opt/homebrew/Caskroom/miniconda/base/envs/rag2/lib/python3.11/site-packages (from jsonschema>=3.0->altair<6.0,>=4.2.0->gradio) (23.2.0)\r\n",
      "Requirement already satisfied: jsonschema-specifications>=2023.03.6 in /opt/homebrew/Caskroom/miniconda/base/envs/rag2/lib/python3.11/site-packages (from jsonschema>=3.0->altair<6.0,>=4.2.0->gradio) (2023.12.1)\r\n",
      "Requirement already satisfied: referencing>=0.28.4 in /opt/homebrew/Caskroom/miniconda/base/envs/rag2/lib/python3.11/site-packages (from jsonschema>=3.0->altair<6.0,>=4.2.0->gradio) (0.32.1)\r\n",
      "Requirement already satisfied: rpds-py>=0.7.1 in /opt/homebrew/Caskroom/miniconda/base/envs/rag2/lib/python3.11/site-packages (from jsonschema>=3.0->altair<6.0,>=4.2.0->gradio) (0.16.2)\r\n",
      "Requirement already satisfied: charset-normalizer<4,>=2 in /opt/homebrew/Caskroom/miniconda/base/envs/rag2/lib/python3.11/site-packages (from requests->huggingface-hub>=0.4.0->sentence-transformers) (3.3.2)\r\n",
      "Requirement already satisfied: markdown-it-py>=2.2.0 in /opt/homebrew/Caskroom/miniconda/base/envs/rag2/lib/python3.11/site-packages (from rich<14.0.0,>=10.11.0->typer[all]<1.0,>=0.9->gradio) (3.0.0)\r\n",
      "Requirement already satisfied: pygments<3.0.0,>=2.13.0 in /opt/homebrew/Caskroom/miniconda/base/envs/rag2/lib/python3.11/site-packages (from rich<14.0.0,>=10.11.0->typer[all]<1.0,>=0.9->gradio) (2.17.2)\r\n",
      "Requirement already satisfied: mpmath>=0.19 in /opt/homebrew/Caskroom/miniconda/base/envs/rag2/lib/python3.11/site-packages (from sympy->torch>=1.6.0->sentence-transformers) (1.3.0)\r\n",
      "Requirement already satisfied: hyperframe<7,>=6.0 in /opt/homebrew/Caskroom/miniconda/base/envs/rag2/lib/python3.11/site-packages (from h2<5,>=3->httpx[http2]>=0.14.0->qdrant-client->qdrant-haystack) (6.0.1)\r\n",
      "Requirement already satisfied: hpack<5,>=4.0 in /opt/homebrew/Caskroom/miniconda/base/envs/rag2/lib/python3.11/site-packages (from h2<5,>=3->httpx[http2]>=0.14.0->qdrant-client->qdrant-haystack) (4.0.0)\r\n",
      "Requirement already satisfied: mdurl~=0.1 in /opt/homebrew/Caskroom/miniconda/base/envs/rag2/lib/python3.11/site-packages (from markdown-it-py>=2.2.0->rich<14.0.0,>=10.11.0->typer[all]<1.0,>=0.9->gradio) (0.1.2)\r\n",
      "Note: you may need to restart the kernel to use updated packages.\n"
     ]
    }
   ],
   "source": [
    "%%script echo skipping....\n",
    "%conda install jupyter pytorch\n",
    "%pip install 'git+https://github.com/deepset-ai/haystack.git#main' sentence-transformers 'txtai[pipeline-data]' qdrant-haystack gradio"
   ],
   "metadata": {
    "collapsed": false,
    "ExecuteTime": {
     "end_time": "2024-01-10T04:13:49.686178Z",
     "start_time": "2024-01-10T04:13:28.793694Z"
    }
   },
   "id": "513c699cf9303a66",
   "execution_count": 1
  },
  {
   "cell_type": "code",
   "outputs": [
    {
     "name": "stdout",
     "output_type": "stream",
     "text": [
      "skipping.....\n"
     ]
    }
   ],
   "source": [
    "%%script echo skipping.....\n",
    "# !docker run --rm -p 6333:6333 -p 6334:6334 -v $(pwd)/qdrant_storage:/qdrant/storage:z -d qdrant/qdrant\n",
    "# !docker run -d -p 9998:9998 apache/tika:latest"
   ],
   "metadata": {
    "collapsed": false,
    "ExecuteTime": {
     "end_time": "2024-01-10T04:08:00.020101Z",
     "start_time": "2024-01-10T04:07:59.999382Z"
    }
   },
   "id": "f713acb039d5fe",
   "execution_count": 2
  },
  {
   "cell_type": "code",
   "outputs": [],
   "source": [
    "from haystack import Pipeline, Document\n",
    "from haystack.components.embedders import SentenceTransformersTextEmbedder, SentenceTransformersDocumentEmbedder\n",
    "from haystack.components.writers import DocumentWriter\n",
    "from haystack.dataclasses import ChatMessage\n",
    "from haystack.components.writers.document_writer import DuplicatePolicy\n",
    "from haystack.components.builders import DynamicChatPromptBuilder\n",
    "from qdrant_haystack import QdrantDocumentStore\n",
    "from qdrant_haystack.retriever import QdrantRetriever\n",
    "from haystack.components.preprocessors import DocumentCleaner\n",
    "from haystack.components.preprocessors import DocumentSplitter\n",
    "from txtai.pipeline import Textractor\n",
    "from haystack.components.generators.chat import OpenAIChatGenerator\n",
    "\n",
    "document_store = QdrantDocumentStore(\n",
    "    \":memory:\",#\"http://127.0.0.1\",\n",
    "    recreate_index=True,\n",
    "    return_embedding=True,\n",
    "    wait_result_from_api=True,\n",
    "    index='zarathustra-rag2a'\n",
    ")\n",
    "\n",
    "document_embedder = SentenceTransformersDocumentEmbedder(\n",
    "    model_name_or_path=\"BAAI/llm-embedder\",\n",
    "    prefix=\"Represent this document for retrieval: \"\n",
    ")\n",
    "document_embedder.warm_up()"
   ],
   "metadata": {
    "collapsed": false,
    "ExecuteTime": {
     "end_time": "2024-01-10T04:15:41.252379Z",
     "start_time": "2024-01-10T04:15:37.352604Z"
    }
   },
   "id": "8501ec8708cd5e0",
   "execution_count": 2
  },
  {
   "cell_type": "code",
   "outputs": [],
   "source": [
    "# %%script echo skipping....\n",
    "documents = []\n",
    "textract = Textractor(paragraphs=True)\n",
    "for paragraph in textract(\"zarathustra-critical-guide.html\"):\n",
    "    if len(paragraph) > 32:\n",
    "        documents.append(\n",
    "            Document(\n",
    "                meta={'name': \"Nietzsche's 'Thus Spoke Zarathustra': A Critical Guide\"},\n",
    "                content=paragraph\n",
    "            )\n",
    "        )\n",
    "\n",
    "for paragraph in textract(\"zarathustra.md\"):\n",
    "    if len(paragraph) > 32:\n",
    "        documents.append(\n",
    "            Document(\n",
    "                meta={'name': \"Thus Spoke Zarathustra\"},\n",
    "                content=paragraph\n",
    "            )\n",
    "        )"
   ],
   "metadata": {
    "collapsed": false,
    "ExecuteTime": {
     "end_time": "2024-01-10T04:15:49.827548Z",
     "start_time": "2024-01-10T04:15:49.334807Z"
    }
   },
   "id": "39582302672af1b9",
   "execution_count": 3
  },
  {
   "cell_type": "code",
   "outputs": [],
   "source": [
    "document_writer = DocumentWriter(document_store = document_store)\n",
    "indexing_pipeline = Pipeline()\n",
    "indexing_pipeline.add_component(instance=DocumentCleaner(), name=\"cleaner\")\n",
    "indexing_pipeline.add_component(instance=document_embedder, name=\"embedder\")\n",
    "indexing_pipeline.add_component(instance=document_writer, name=\"writer\")\n",
    "indexing_pipeline.connect(\"cleaner\", \"embedder\")\n",
    "indexing_pipeline.connect(\"embedder\", \"writer\")\n",
    "indexing_pipeline.draw(\"indexing_pipeline.png\")\n"
   ],
   "metadata": {
    "collapsed": false,
    "ExecuteTime": {
     "end_time": "2024-01-10T04:16:30.094687Z",
     "start_time": "2024-01-10T04:16:28.368356Z"
    }
   },
   "id": "ed447e0227c4eb52",
   "execution_count": 4
  },
  {
   "cell_type": "code",
   "outputs": [
    {
     "data": {
      "text/plain": "Batches:   0%|          | 0/114 [00:00<?, ?it/s]",
      "application/vnd.jupyter.widget-view+json": {
       "version_major": 2,
       "version_minor": 0,
       "model_id": "9f0eba76ed664df98de0bf670dad2851"
      }
     },
     "metadata": {},
     "output_type": "display_data"
    },
    {
     "name": "stderr",
     "output_type": "stream",
     "text": [
      "3700it [00:01, 2005.75it/s]                          \n"
     ]
    },
    {
     "data": {
      "text/plain": "{'writer': {'documents_written': 3645}}"
     },
     "execution_count": 6,
     "metadata": {},
     "output_type": "execute_result"
    }
   ],
   "source": [
    "# %%script echo skipping.......\n",
    "indexing_pipeline.run(\n",
    "    {\n",
    "        \"cleaner\": {\n",
    "            \"documents\": documents\n",
    "        },\n",
    "        \"writer\": {\n",
    "            \"policy\": DuplicatePolicy.OVERWRITE\n",
    "        }\n",
    "    }\n",
    ")"
   ],
   "metadata": {
    "collapsed": false,
    "ExecuteTime": {
     "end_time": "2024-01-10T04:17:35.735649Z",
     "start_time": "2024-01-10T04:16:43.753653Z"
    }
   },
   "id": "1d20d4e2223db7cf",
   "execution_count": 6
  },
  {
   "cell_type": "code",
   "outputs": [],
   "source": [
    "retriever = QdrantRetriever(\n",
    "    document_store=document_store,\n",
    "    top_k=10\n",
    ")\n",
    "\n",
    "text_embedder = SentenceTransformersTextEmbedder(\n",
    "        model_name_or_path=\"BAAI/llm-embedder\",\n",
    "        prefix=\"Represent this query for retrieving relevant documents: \"\n",
    "    )\n",
    "\n",
    "template = \"\"\"\n",
    "Given the following information, follow my instruction.\n",
    "\n",
    "Context: \n",
    "{% for document in documents %}\n",
    "    {{ document.content }}\n",
    "{% endfor %}\n",
    "\n",
    "My Instruction: {{ question }}\n",
    "\"\"\"\n",
    "\n",
    "prompt_builder = DynamicChatPromptBuilder(runtime_variables=[\"documents\"])\n"
   ],
   "metadata": {
    "collapsed": false,
    "ExecuteTime": {
     "end_time": "2024-01-10T04:17:50.962717Z",
     "start_time": "2024-01-10T04:17:50.957708Z"
    }
   },
   "id": "7e926fd2c0dee969",
   "execution_count": 7
  },
  {
   "cell_type": "code",
   "outputs": [],
   "source": [
    "llm = OpenAIChatGenerator(api_base_url=\"REDACTED\", api_key=\"REDACTED\")"
   ],
   "metadata": {
    "collapsed": false
   },
   "id": "5841b1e48b08a373"
  },
  {
   "cell_type": "code",
   "outputs": [],
   "source": [
    "rag_pipeline = Pipeline()\n",
    "rag_pipeline.add_component(\"text_embedder\", text_embedder)\n",
    "rag_pipeline.add_component(\"retriever\", retriever)\n",
    "rag_pipeline.add_component(\"prompt_builder\", prompt_builder)\n",
    "rag_pipeline.add_component(\"llm\", llm)\n",
    "rag_pipeline.connect(\"text_embedder.embedding\", \"retriever.query_embedding\")\n",
    "rag_pipeline.connect(\"retriever\", \"prompt_builder.documents\")\n",
    "rag_pipeline.connect(\"prompt_builder\", \"llm\")\n",
    "rag_pipeline.draw(\"rag_pipeline.png\")"
   ],
   "metadata": {
    "collapsed": false,
    "ExecuteTime": {
     "end_time": "2024-01-10T04:17:56.420119Z",
     "start_time": "2024-01-10T04:17:56.024960Z"
    }
   },
   "id": "9dcb851e168351b7",
   "execution_count": 8
  },
  {
   "cell_type": "code",
   "outputs": [
    {
     "data": {
      "text/plain": "Batches:   0%|          | 0/1 [00:00<?, ?it/s]",
      "application/vnd.jupyter.widget-view+json": {
       "version_major": 2,
       "version_minor": 0,
       "model_id": "82521d011f7a447aadea8df4ad061728"
      }
     },
     "metadata": {},
     "output_type": "display_data"
    },
    {
     "name": "stderr",
     "output_type": "stream",
     "text": [
      "huggingface/tokenizers: The current process just got forked, after parallelism has already been used. Disabling parallelism to avoid deadlocks...\n",
      "To disable this warning, you can either:\n",
      "\t- Avoid using `tokenizers` before the fork if possible\n",
      "\t- Explicitly set the environment variable TOKENIZERS_PARALLELISM=(true | false)\n"
     ]
    },
    {
     "name": "stdout",
     "output_type": "stream",
     "text": [
      "\n",
      "Zarathustra, also known as Zoroaster, is the founder of the ancient Persian religion and the author of its sacred text, the Zend-Avesta. He is believed to have lived in the seventh century BCE and is renowned for his doctrine of the conflict between Ahura Mazda (Ormuzd), the god of light and good, and Angra Mainyu (Ahriman), the god of darkness and evil.\n",
      "\n",
      "Nietzsche adopted the name Zarathustra for his own hero in his book \"Thus Spoke Zarathustra.\" In Nietzsche's interpretation, Zarathustra is the first to translate morality into the realm of metaphysics and the first to recognize the error of morality. Nietzsche saw Zarathustra as the embodiment of truthfulness and the self-overcoming of morality.\n",
      "\n",
      "Zarathustra is described as a dancer, a light, a prophet, and a laughing prophet. He is a seer, a wilier, a creator, a future itself, and a bridge to the future. Nietzsche portrays Zarathustra as a genuine, simple man of one meaning and all honesty, a repository of wisdom, a saint of knowledge, and a great man.\n"
     ]
    }
   ],
   "source": [
    "def send(message, history):\n",
    "    messages = [ChatMessage.from_user(template)]\n",
    "    response = rag_pipeline.run(\n",
    "        {\n",
    "            \"text_embedder\": {\"text\": message},\n",
    "            \"prompt_builder\": {\n",
    "                \"template_variables\": {\"question\": message},\n",
    "                \"prompt_source\": messages\n",
    "            }\n",
    "        }\n",
    "    )\n",
    "    return response.get('llm').get('replies')[-1].content\n",
    "\n",
    "print(send(\"Who is zarathustra?\", None))"
   ],
   "metadata": {
    "collapsed": false,
    "ExecuteTime": {
     "end_time": "2024-01-10T04:18:15.162046Z",
     "start_time": "2024-01-10T04:18:00.361227Z"
    }
   },
   "id": "31bbb1e3449df95a",
   "execution_count": 9
  },
  {
   "cell_type": "code",
   "outputs": [
    {
     "name": "stdout",
     "output_type": "stream",
     "text": [
      "skipping....\n"
     ]
    },
    {
     "name": "stderr",
     "output_type": "stream",
     "text": [
      "huggingface/tokenizers: The current process just got forked, after parallelism has already been used. Disabling parallelism to avoid deadlocks...\n",
      "To disable this warning, you can either:\n",
      "\t- Avoid using `tokenizers` before the fork if possible\n",
      "\t- Explicitly set the environment variable TOKENIZERS_PARALLELISM=(true | false)\n"
     ]
    }
   ],
   "source": [
    "%%script echo skipping....\n",
    "import gradio as gr\n",
    "\n",
    "demo = gr.ChatInterface(fn=send, title=\"RAG2A\")\n",
    "demo.launch(inline=False)"
   ],
   "metadata": {
    "collapsed": false,
    "ExecuteTime": {
     "end_time": "2024-01-10T03:55:24.264044Z",
     "start_time": "2024-01-10T03:55:24.208749Z"
    }
   },
   "id": "685026113ddc7614",
   "execution_count": 9
  }
 ],
 "metadata": {
  "kernelspec": {
   "name": "rag-2a",
   "language": "python",
   "display_name": "RAG 2A"
  },
  "language_info": {
   "codemirror_mode": {
    "name": "ipython",
    "version": 2
   },
   "file_extension": ".py",
   "mimetype": "text/x-python",
   "name": "python",
   "nbconvert_exporter": "python",
   "pygments_lexer": "ipython2",
   "version": "2.7.6"
  }
 },
 "nbformat": 4,
 "nbformat_minor": 5
}
