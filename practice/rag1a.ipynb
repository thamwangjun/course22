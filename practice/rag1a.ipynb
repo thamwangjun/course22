{
 "cells": [
  {
   "cell_type": "code",
   "execution_count": 1,
   "id": "initial_id",
   "metadata": {
    "collapsed": true,
    "ExecuteTime": {
     "end_time": "2024-01-01T15:41:13.063793Z",
     "start_time": "2024-01-01T15:41:04.670947Z"
    }
   },
   "outputs": [
    {
     "name": "stdout",
     "output_type": "stream",
     "text": [
      "Collecting git+https://github.com/facebookresearch/fastText.git#main\r\n",
      "  Cloning https://github.com/facebookresearch/fastText.git to /private/var/folders/43/13h_2sgd3bxflq4m898ym8bm0000gn/T/pip-req-build-8zcovvqr\r\n",
      "  Running command git clone --filter=blob:none --quiet https://github.com/facebookresearch/fastText.git /private/var/folders/43/13h_2sgd3bxflq4m898ym8bm0000gn/T/pip-req-build-8zcovvqr\r\n",
      "  Resolved https://github.com/facebookresearch/fastText.git to commit 6c2204ba66776b700095ff73e3e599a908ffd9c3\r\n",
      "  Installing build dependencies ... \u001B[?25ldone\r\n",
      "\u001B[?25h  Getting requirements to build wheel ... \u001B[?25ldone\r\n",
      "\u001B[?25h  Preparing metadata (pyproject.toml) ... \u001B[?25ldone\r\n",
      "\u001B[?25hRequirement already satisfied: pip in /Users/wangjuntham/utm/software-dev/thamwangjun/fastai-course/virtualenvs/rag-1/lib/python3.11/site-packages (23.3.2)\r\n",
      "Requirement already satisfied: transformers in /Users/wangjuntham/utm/software-dev/thamwangjun/fastai-course/virtualenvs/rag-1/lib/python3.11/site-packages (4.36.2)\r\n",
      "Requirement already satisfied: gradio in /Users/wangjuntham/utm/software-dev/thamwangjun/fastai-course/virtualenvs/rag-1/lib/python3.11/site-packages (4.12.0)\r\n",
      "Requirement already satisfied: accelerate in /Users/wangjuntham/utm/software-dev/thamwangjun/fastai-course/virtualenvs/rag-1/lib/python3.11/site-packages (0.25.0)\r\n",
      "Requirement already satisfied: txtai[all] in /Users/wangjuntham/utm/software-dev/thamwangjun/fastai-course/virtualenvs/rag-1/lib/python3.11/site-packages (6.3.0)\r\n",
      "Requirement already satisfied: filelock in /Users/wangjuntham/utm/software-dev/thamwangjun/fastai-course/virtualenvs/rag-1/lib/python3.11/site-packages (from transformers) (3.13.1)\r\n",
      "Requirement already satisfied: huggingface-hub<1.0,>=0.19.3 in /Users/wangjuntham/utm/software-dev/thamwangjun/fastai-course/virtualenvs/rag-1/lib/python3.11/site-packages (from transformers) (0.20.1)\r\n",
      "Requirement already satisfied: numpy>=1.17 in /Users/wangjuntham/utm/software-dev/thamwangjun/fastai-course/virtualenvs/rag-1/lib/python3.11/site-packages (from transformers) (1.26.2)\r\n",
      "Requirement already satisfied: packaging>=20.0 in /Users/wangjuntham/utm/software-dev/thamwangjun/fastai-course/virtualenvs/rag-1/lib/python3.11/site-packages (from transformers) (23.2)\r\n",
      "Requirement already satisfied: pyyaml>=5.1 in /Users/wangjuntham/utm/software-dev/thamwangjun/fastai-course/virtualenvs/rag-1/lib/python3.11/site-packages (from transformers) (6.0.1)\r\n",
      "Requirement already satisfied: regex!=2019.12.17 in /Users/wangjuntham/utm/software-dev/thamwangjun/fastai-course/virtualenvs/rag-1/lib/python3.11/site-packages (from transformers) (2023.12.25)\r\n",
      "Requirement already satisfied: requests in /Users/wangjuntham/utm/software-dev/thamwangjun/fastai-course/virtualenvs/rag-1/lib/python3.11/site-packages (from transformers) (2.31.0)\r\n",
      "Requirement already satisfied: tokenizers<0.19,>=0.14 in /Users/wangjuntham/utm/software-dev/thamwangjun/fastai-course/virtualenvs/rag-1/lib/python3.11/site-packages (from transformers) (0.15.0)\r\n",
      "Requirement already satisfied: safetensors>=0.3.1 in /Users/wangjuntham/utm/software-dev/thamwangjun/fastai-course/virtualenvs/rag-1/lib/python3.11/site-packages (from transformers) (0.4.1)\r\n",
      "Requirement already satisfied: tqdm>=4.27 in /Users/wangjuntham/utm/software-dev/thamwangjun/fastai-course/virtualenvs/rag-1/lib/python3.11/site-packages (from transformers) (4.66.1)\r\n",
      "Requirement already satisfied: aiofiles<24.0,>=22.0 in /Users/wangjuntham/utm/software-dev/thamwangjun/fastai-course/virtualenvs/rag-1/lib/python3.11/site-packages (from gradio) (23.2.1)\r\n",
      "Requirement already satisfied: altair<6.0,>=4.2.0 in /Users/wangjuntham/utm/software-dev/thamwangjun/fastai-course/virtualenvs/rag-1/lib/python3.11/site-packages (from gradio) (5.2.0)\r\n",
      "Requirement already satisfied: fastapi in /Users/wangjuntham/utm/software-dev/thamwangjun/fastai-course/virtualenvs/rag-1/lib/python3.11/site-packages (from gradio) (0.108.0)\r\n",
      "Requirement already satisfied: ffmpy in /Users/wangjuntham/utm/software-dev/thamwangjun/fastai-course/virtualenvs/rag-1/lib/python3.11/site-packages (from gradio) (0.3.1)\r\n",
      "Requirement already satisfied: gradio-client==0.8.0 in /Users/wangjuntham/utm/software-dev/thamwangjun/fastai-course/virtualenvs/rag-1/lib/python3.11/site-packages (from gradio) (0.8.0)\r\n",
      "Requirement already satisfied: httpx in /Users/wangjuntham/utm/software-dev/thamwangjun/fastai-course/virtualenvs/rag-1/lib/python3.11/site-packages (from gradio) (0.26.0)\r\n",
      "Requirement already satisfied: importlib-resources<7.0,>=1.3 in /Users/wangjuntham/utm/software-dev/thamwangjun/fastai-course/virtualenvs/rag-1/lib/python3.11/site-packages (from gradio) (6.1.1)\r\n",
      "Requirement already satisfied: jinja2<4.0 in /Users/wangjuntham/utm/software-dev/thamwangjun/fastai-course/virtualenvs/rag-1/lib/python3.11/site-packages (from gradio) (3.1.2)\r\n",
      "Requirement already satisfied: markupsafe~=2.0 in /Users/wangjuntham/utm/software-dev/thamwangjun/fastai-course/virtualenvs/rag-1/lib/python3.11/site-packages (from gradio) (2.1.3)\r\n",
      "Requirement already satisfied: matplotlib~=3.0 in /Users/wangjuntham/utm/software-dev/thamwangjun/fastai-course/virtualenvs/rag-1/lib/python3.11/site-packages (from gradio) (3.8.2)\r\n",
      "Requirement already satisfied: orjson~=3.0 in /Users/wangjuntham/utm/software-dev/thamwangjun/fastai-course/virtualenvs/rag-1/lib/python3.11/site-packages (from gradio) (3.9.10)\r\n",
      "Requirement already satisfied: pandas<3.0,>=1.0 in /Users/wangjuntham/utm/software-dev/thamwangjun/fastai-course/virtualenvs/rag-1/lib/python3.11/site-packages (from gradio) (2.1.4)\r\n",
      "Requirement already satisfied: pillow<11.0,>=8.0 in /Users/wangjuntham/utm/software-dev/thamwangjun/fastai-course/virtualenvs/rag-1/lib/python3.11/site-packages (from gradio) (10.1.0)\r\n",
      "Requirement already satisfied: pydantic>=2.0 in /Users/wangjuntham/utm/software-dev/thamwangjun/fastai-course/virtualenvs/rag-1/lib/python3.11/site-packages (from gradio) (2.5.3)\r\n",
      "Requirement already satisfied: pydub in /Users/wangjuntham/utm/software-dev/thamwangjun/fastai-course/virtualenvs/rag-1/lib/python3.11/site-packages (from gradio) (0.25.1)\r\n",
      "Requirement already satisfied: python-multipart in /Users/wangjuntham/utm/software-dev/thamwangjun/fastai-course/virtualenvs/rag-1/lib/python3.11/site-packages (from gradio) (0.0.6)\r\n",
      "Requirement already satisfied: semantic-version~=2.0 in /Users/wangjuntham/utm/software-dev/thamwangjun/fastai-course/virtualenvs/rag-1/lib/python3.11/site-packages (from gradio) (2.10.0)\r\n",
      "Requirement already satisfied: tomlkit==0.12.0 in /Users/wangjuntham/utm/software-dev/thamwangjun/fastai-course/virtualenvs/rag-1/lib/python3.11/site-packages (from gradio) (0.12.0)\r\n",
      "Requirement already satisfied: typer<1.0,>=0.9 in /Users/wangjuntham/utm/software-dev/thamwangjun/fastai-course/virtualenvs/rag-1/lib/python3.11/site-packages (from typer[all]<1.0,>=0.9->gradio) (0.9.0)\r\n",
      "Requirement already satisfied: typing-extensions~=4.0 in /Users/wangjuntham/utm/software-dev/thamwangjun/fastai-course/virtualenvs/rag-1/lib/python3.11/site-packages (from gradio) (4.9.0)\r\n",
      "Requirement already satisfied: uvicorn>=0.14.0 in /Users/wangjuntham/utm/software-dev/thamwangjun/fastai-course/virtualenvs/rag-1/lib/python3.11/site-packages (from gradio) (0.25.0)\r\n",
      "Requirement already satisfied: fsspec in /Users/wangjuntham/utm/software-dev/thamwangjun/fastai-course/virtualenvs/rag-1/lib/python3.11/site-packages (from gradio-client==0.8.0->gradio) (2023.12.2)\r\n",
      "Requirement already satisfied: websockets<12.0,>=10.0 in /Users/wangjuntham/utm/software-dev/thamwangjun/fastai-course/virtualenvs/rag-1/lib/python3.11/site-packages (from gradio-client==0.8.0->gradio) (11.0.3)\r\n",
      "Requirement already satisfied: psutil in /Users/wangjuntham/utm/software-dev/thamwangjun/fastai-course/virtualenvs/rag-1/lib/python3.11/site-packages (from accelerate) (5.9.7)\r\n",
      "Requirement already satisfied: torch>=1.10.0 in /Users/wangjuntham/utm/software-dev/thamwangjun/fastai-course/virtualenvs/rag-1/lib/python3.11/site-packages (from accelerate) (2.1.2)\r\n",
      "Requirement already satisfied: pybind11>=2.2 in /Users/wangjuntham/utm/software-dev/thamwangjun/fastai-course/virtualenvs/rag-1/lib/python3.11/site-packages (from fasttext==0.9.2) (2.11.1)\r\n",
      "Requirement already satisfied: setuptools>=0.7.0 in /Users/wangjuntham/utm/software-dev/thamwangjun/fastai-course/virtualenvs/rag-1/lib/python3.11/site-packages (from fasttext==0.9.2) (68.2.2)\r\n",
      "Requirement already satisfied: faiss-cpu>=1.7.1.post2 in /Users/wangjuntham/utm/software-dev/thamwangjun/fastai-course/virtualenvs/rag-1/lib/python3.11/site-packages (from txtai[all]) (1.7.4)\r\n",
      "Requirement already satisfied: aiohttp>=3.8.1 in /Users/wangjuntham/utm/software-dev/thamwangjun/fastai-course/virtualenvs/rag-1/lib/python3.11/site-packages (from txtai[all]) (3.9.1)\r\n",
      "Requirement already satisfied: apache-libcloud>=3.3.1 in /Users/wangjuntham/utm/software-dev/thamwangjun/fastai-course/virtualenvs/rag-1/lib/python3.11/site-packages (from txtai[all]) (3.8.0)\r\n",
      "Requirement already satisfied: rich>=12.0.1 in /Users/wangjuntham/utm/software-dev/thamwangjun/fastai-course/virtualenvs/rag-1/lib/python3.11/site-packages (from txtai[all]) (13.7.0)\r\n",
      "Requirement already satisfied: duckdb>=0.7.1 in /Users/wangjuntham/utm/software-dev/thamwangjun/fastai-course/virtualenvs/rag-1/lib/python3.11/site-packages (from txtai[all]) (0.9.2)\r\n",
      "Requirement already satisfied: sqlalchemy>=2.0.20 in /Users/wangjuntham/utm/software-dev/thamwangjun/fastai-course/virtualenvs/rag-1/lib/python3.11/site-packages (from txtai[all]) (2.0.24)\r\n",
      "Requirement already satisfied: networkx>=2.6.3 in /Users/wangjuntham/utm/software-dev/thamwangjun/fastai-course/virtualenvs/rag-1/lib/python3.11/site-packages (from txtai[all]) (3.2.1)\r\n",
      "Requirement already satisfied: python-louvain>=0.16 in /Users/wangjuntham/utm/software-dev/thamwangjun/fastai-course/virtualenvs/rag-1/lib/python3.11/site-packages (from txtai[all]) (0.16)\r\n",
      "Requirement already satisfied: onnx>=1.11.0 in /Users/wangjuntham/utm/software-dev/thamwangjun/fastai-course/virtualenvs/rag-1/lib/python3.11/site-packages (from txtai[all]) (1.15.0)\r\n",
      "Requirement already satisfied: onnxruntime>=1.11.0 in /Users/wangjuntham/utm/software-dev/thamwangjun/fastai-course/virtualenvs/rag-1/lib/python3.11/site-packages (from txtai[all]) (1.16.3)\r\n",
      "Requirement already satisfied: soundfile>=0.10.3.post1 in /Users/wangjuntham/utm/software-dev/thamwangjun/fastai-course/virtualenvs/rag-1/lib/python3.11/site-packages (from txtai[all]) (0.12.1)\r\n",
      "Requirement already satisfied: scipy>=1.4.1 in /Users/wangjuntham/utm/software-dev/thamwangjun/fastai-course/virtualenvs/rag-1/lib/python3.11/site-packages (from txtai[all]) (1.11.4)\r\n",
      "Requirement already satisfied: ttstokenizer>=1.0.0 in /Users/wangjuntham/utm/software-dev/thamwangjun/fastai-course/virtualenvs/rag-1/lib/python3.11/site-packages (from txtai[all]) (1.0.0)\r\n",
      "Requirement already satisfied: beautifulsoup4>=4.9.3 in /Users/wangjuntham/utm/software-dev/thamwangjun/fastai-course/virtualenvs/rag-1/lib/python3.11/site-packages (from txtai[all]) (4.12.2)\r\n",
      "Requirement already satisfied: nltk>=3.5 in /Users/wangjuntham/utm/software-dev/thamwangjun/fastai-course/virtualenvs/rag-1/lib/python3.11/site-packages (from txtai[all]) (3.8.1)\r\n",
      "Requirement already satisfied: tika>=1.24 in /Users/wangjuntham/utm/software-dev/thamwangjun/fastai-course/virtualenvs/rag-1/lib/python3.11/site-packages (from txtai[all]) (2.6.0)\r\n",
      "Requirement already satisfied: imagehash>=4.2.1 in /Users/wangjuntham/utm/software-dev/thamwangjun/fastai-course/virtualenvs/rag-1/lib/python3.11/site-packages (from txtai[all]) (4.3.1)\r\n",
      "Requirement already satisfied: timm>=0.4.12 in /Users/wangjuntham/utm/software-dev/thamwangjun/fastai-course/virtualenvs/rag-1/lib/python3.11/site-packages (from txtai[all]) (0.9.12)\r\n",
      "Requirement already satisfied: litellm>=1.15.8 in /Users/wangjuntham/utm/software-dev/thamwangjun/fastai-course/virtualenvs/rag-1/lib/python3.11/site-packages (from txtai[all]) (1.16.8)\r\n",
      "Requirement already satisfied: llama-cpp-python>=0.2.20 in /Users/wangjuntham/utm/software-dev/thamwangjun/fastai-course/virtualenvs/rag-1/lib/python3.11/site-packages (from txtai[all]) (0.2.26)\r\n",
      "Requirement already satisfied: sentencepiece>=0.1.91 in /Users/wangjuntham/utm/software-dev/thamwangjun/fastai-course/virtualenvs/rag-1/lib/python3.11/site-packages (from txtai[all]) (0.1.99)\r\n",
      "Requirement already satisfied: onnxmltools>=1.9.1 in /Users/wangjuntham/utm/software-dev/thamwangjun/fastai-course/virtualenvs/rag-1/lib/python3.11/site-packages (from txtai[all]) (1.12.0)\r\n",
      "Requirement already satisfied: skl2onnx>=1.9.1 in /Users/wangjuntham/utm/software-dev/thamwangjun/fastai-course/virtualenvs/rag-1/lib/python3.11/site-packages (from txtai[all]) (1.16.0)\r\n",
      "Requirement already satisfied: annoy>=1.16.3 in /Users/wangjuntham/utm/software-dev/thamwangjun/fastai-course/virtualenvs/rag-1/lib/python3.11/site-packages (from txtai[all]) (1.17.3)\r\n",
      "Requirement already satisfied: hnswlib>=0.5.0 in /Users/wangjuntham/utm/software-dev/thamwangjun/fastai-course/virtualenvs/rag-1/lib/python3.11/site-packages (from txtai[all]) (0.8.0)\r\n",
      "Requirement already satisfied: pymagnitude-lite>=0.1.43 in /Users/wangjuntham/utm/software-dev/thamwangjun/fastai-course/virtualenvs/rag-1/lib/python3.11/site-packages (from txtai[all]) (0.1.143)\r\n",
      "Requirement already satisfied: scikit-learn>=0.23.1 in /Users/wangjuntham/utm/software-dev/thamwangjun/fastai-course/virtualenvs/rag-1/lib/python3.11/site-packages (from txtai[all]) (1.3.2)\r\n",
      "Requirement already satisfied: sentence-transformers>=2.2.0 in /Users/wangjuntham/utm/software-dev/thamwangjun/fastai-course/virtualenvs/rag-1/lib/python3.11/site-packages (from txtai[all]) (2.2.2)\r\n",
      "Requirement already satisfied: croniter>=1.2.0 in /Users/wangjuntham/utm/software-dev/thamwangjun/fastai-course/virtualenvs/rag-1/lib/python3.11/site-packages (from txtai[all]) (2.0.1)\r\n",
      "Requirement already satisfied: openpyxl>=3.0.9 in /Users/wangjuntham/utm/software-dev/thamwangjun/fastai-course/virtualenvs/rag-1/lib/python3.11/site-packages (from txtai[all]) (3.1.2)\r\n",
      "Requirement already satisfied: xmltodict>=0.12.0 in /Users/wangjuntham/utm/software-dev/thamwangjun/fastai-course/virtualenvs/rag-1/lib/python3.11/site-packages (from txtai[all]) (0.13.0)\r\n",
      "Requirement already satisfied: attrs>=17.3.0 in /Users/wangjuntham/utm/software-dev/thamwangjun/fastai-course/virtualenvs/rag-1/lib/python3.11/site-packages (from aiohttp>=3.8.1->txtai[all]) (23.1.0)\r\n",
      "Requirement already satisfied: multidict<7.0,>=4.5 in /Users/wangjuntham/utm/software-dev/thamwangjun/fastai-course/virtualenvs/rag-1/lib/python3.11/site-packages (from aiohttp>=3.8.1->txtai[all]) (6.0.4)\r\n",
      "Requirement already satisfied: yarl<2.0,>=1.0 in /Users/wangjuntham/utm/software-dev/thamwangjun/fastai-course/virtualenvs/rag-1/lib/python3.11/site-packages (from aiohttp>=3.8.1->txtai[all]) (1.9.4)\r\n",
      "Requirement already satisfied: frozenlist>=1.1.1 in /Users/wangjuntham/utm/software-dev/thamwangjun/fastai-course/virtualenvs/rag-1/lib/python3.11/site-packages (from aiohttp>=3.8.1->txtai[all]) (1.4.1)\r\n",
      "Requirement already satisfied: aiosignal>=1.1.2 in /Users/wangjuntham/utm/software-dev/thamwangjun/fastai-course/virtualenvs/rag-1/lib/python3.11/site-packages (from aiohttp>=3.8.1->txtai[all]) (1.3.1)\r\n",
      "Requirement already satisfied: jsonschema>=3.0 in /Users/wangjuntham/utm/software-dev/thamwangjun/fastai-course/virtualenvs/rag-1/lib/python3.11/site-packages (from altair<6.0,>=4.2.0->gradio) (4.20.0)\r\n",
      "Requirement already satisfied: toolz in /Users/wangjuntham/utm/software-dev/thamwangjun/fastai-course/virtualenvs/rag-1/lib/python3.11/site-packages (from altair<6.0,>=4.2.0->gradio) (0.12.0)\r\n",
      "Requirement already satisfied: soupsieve>1.2 in /Users/wangjuntham/utm/software-dev/thamwangjun/fastai-course/virtualenvs/rag-1/lib/python3.11/site-packages (from beautifulsoup4>=4.9.3->txtai[all]) (2.5)\r\n",
      "Requirement already satisfied: python-dateutil in /Users/wangjuntham/utm/software-dev/thamwangjun/fastai-course/virtualenvs/rag-1/lib/python3.11/site-packages (from croniter>=1.2.0->txtai[all]) (2.8.2)\r\n",
      "Requirement already satisfied: pytz>2021.1 in /Users/wangjuntham/utm/software-dev/thamwangjun/fastai-course/virtualenvs/rag-1/lib/python3.11/site-packages (from croniter>=1.2.0->txtai[all]) (2023.3.post1)\r\n",
      "Requirement already satisfied: starlette<0.33.0,>=0.29.0 in /Users/wangjuntham/utm/software-dev/thamwangjun/fastai-course/virtualenvs/rag-1/lib/python3.11/site-packages (from fastapi->gradio) (0.32.0.post1)\r\n",
      "Requirement already satisfied: PyWavelets in /Users/wangjuntham/utm/software-dev/thamwangjun/fastai-course/virtualenvs/rag-1/lib/python3.11/site-packages (from imagehash>=4.2.1->txtai[all]) (1.5.0)\r\n",
      "Requirement already satisfied: certifi<2024.0.0,>=2023.7.22 in /Users/wangjuntham/utm/software-dev/thamwangjun/fastai-course/virtualenvs/rag-1/lib/python3.11/site-packages (from litellm>=1.15.8->txtai[all]) (2023.11.17)\r\n",
      "Requirement already satisfied: click in /Users/wangjuntham/utm/software-dev/thamwangjun/fastai-course/virtualenvs/rag-1/lib/python3.11/site-packages (from litellm>=1.15.8->txtai[all]) (8.1.7)\r\n",
      "Requirement already satisfied: importlib-metadata>=6.8.0 in /Users/wangjuntham/utm/software-dev/thamwangjun/fastai-course/virtualenvs/rag-1/lib/python3.11/site-packages (from litellm>=1.15.8->txtai[all]) (7.0.1)\r\n",
      "Requirement already satisfied: openai>=1.0.0 in /Users/wangjuntham/utm/software-dev/thamwangjun/fastai-course/virtualenvs/rag-1/lib/python3.11/site-packages (from litellm>=1.15.8->txtai[all]) (1.6.1)\r\n",
      "Requirement already satisfied: python-dotenv>=0.2.0 in /Users/wangjuntham/utm/software-dev/thamwangjun/fastai-course/virtualenvs/rag-1/lib/python3.11/site-packages (from litellm>=1.15.8->txtai[all]) (1.0.0)\r\n",
      "Requirement already satisfied: tiktoken>=0.4.0 in /Users/wangjuntham/utm/software-dev/thamwangjun/fastai-course/virtualenvs/rag-1/lib/python3.11/site-packages (from litellm>=1.15.8->txtai[all]) (0.5.2)\r\n",
      "Requirement already satisfied: diskcache>=5.6.1 in /Users/wangjuntham/utm/software-dev/thamwangjun/fastai-course/virtualenvs/rag-1/lib/python3.11/site-packages (from llama-cpp-python>=0.2.20->txtai[all]) (5.6.3)\r\n",
      "Requirement already satisfied: contourpy>=1.0.1 in /Users/wangjuntham/utm/software-dev/thamwangjun/fastai-course/virtualenvs/rag-1/lib/python3.11/site-packages (from matplotlib~=3.0->gradio) (1.2.0)\r\n",
      "Requirement already satisfied: cycler>=0.10 in /Users/wangjuntham/utm/software-dev/thamwangjun/fastai-course/virtualenvs/rag-1/lib/python3.11/site-packages (from matplotlib~=3.0->gradio) (0.12.1)\r\n",
      "Requirement already satisfied: fonttools>=4.22.0 in /Users/wangjuntham/utm/software-dev/thamwangjun/fastai-course/virtualenvs/rag-1/lib/python3.11/site-packages (from matplotlib~=3.0->gradio) (4.47.0)\r\n",
      "Requirement already satisfied: kiwisolver>=1.3.1 in /Users/wangjuntham/utm/software-dev/thamwangjun/fastai-course/virtualenvs/rag-1/lib/python3.11/site-packages (from matplotlib~=3.0->gradio) (1.4.5)\r\n",
      "Requirement already satisfied: pyparsing>=2.3.1 in /Users/wangjuntham/utm/software-dev/thamwangjun/fastai-course/virtualenvs/rag-1/lib/python3.11/site-packages (from matplotlib~=3.0->gradio) (3.1.1)\r\n",
      "Requirement already satisfied: joblib in /Users/wangjuntham/utm/software-dev/thamwangjun/fastai-course/virtualenvs/rag-1/lib/python3.11/site-packages (from nltk>=3.5->txtai[all]) (1.3.2)\r\n",
      "Requirement already satisfied: protobuf>=3.20.2 in /Users/wangjuntham/utm/software-dev/thamwangjun/fastai-course/virtualenvs/rag-1/lib/python3.11/site-packages (from onnx>=1.11.0->txtai[all]) (3.20.2)\r\n",
      "Requirement already satisfied: coloredlogs in /Users/wangjuntham/utm/software-dev/thamwangjun/fastai-course/virtualenvs/rag-1/lib/python3.11/site-packages (from onnxruntime>=1.11.0->txtai[all]) (15.0.1)\r\n",
      "Requirement already satisfied: flatbuffers in /Users/wangjuntham/utm/software-dev/thamwangjun/fastai-course/virtualenvs/rag-1/lib/python3.11/site-packages (from onnxruntime>=1.11.0->txtai[all]) (23.5.26)\r\n",
      "Requirement already satisfied: sympy in /Users/wangjuntham/utm/software-dev/thamwangjun/fastai-course/virtualenvs/rag-1/lib/python3.11/site-packages (from onnxruntime>=1.11.0->txtai[all]) (1.12)\r\n",
      "Requirement already satisfied: et-xmlfile in /Users/wangjuntham/utm/software-dev/thamwangjun/fastai-course/virtualenvs/rag-1/lib/python3.11/site-packages (from openpyxl>=3.0.9->txtai[all]) (1.1.0)\r\n",
      "Requirement already satisfied: tzdata>=2022.1 in /Users/wangjuntham/utm/software-dev/thamwangjun/fastai-course/virtualenvs/rag-1/lib/python3.11/site-packages (from pandas<3.0,>=1.0->gradio) (2023.4)\r\n",
      "Requirement already satisfied: annotated-types>=0.4.0 in /Users/wangjuntham/utm/software-dev/thamwangjun/fastai-course/virtualenvs/rag-1/lib/python3.11/site-packages (from pydantic>=2.0->gradio) (0.6.0)\r\n",
      "Requirement already satisfied: pydantic-core==2.14.6 in /Users/wangjuntham/utm/software-dev/thamwangjun/fastai-course/virtualenvs/rag-1/lib/python3.11/site-packages (from pydantic>=2.0->gradio) (2.14.6)\r\n",
      "Requirement already satisfied: fasteners>=0.14.1 in /Users/wangjuntham/utm/software-dev/thamwangjun/fastai-course/virtualenvs/rag-1/lib/python3.11/site-packages (from pymagnitude-lite>=0.1.43->txtai[all]) (0.19)\r\n",
      "Requirement already satisfied: lz4>=1.0.0 in /Users/wangjuntham/utm/software-dev/thamwangjun/fastai-course/virtualenvs/rag-1/lib/python3.11/site-packages (from pymagnitude-lite>=0.1.43->txtai[all]) (4.3.2)\r\n",
      "Requirement already satisfied: xxhash>=1.0.1 in /Users/wangjuntham/utm/software-dev/thamwangjun/fastai-course/virtualenvs/rag-1/lib/python3.11/site-packages (from pymagnitude-lite>=0.1.43->txtai[all]) (3.4.1)\r\n",
      "Requirement already satisfied: charset-normalizer<4,>=2 in /Users/wangjuntham/utm/software-dev/thamwangjun/fastai-course/virtualenvs/rag-1/lib/python3.11/site-packages (from requests->transformers) (3.3.2)\r\n",
      "Requirement already satisfied: idna<4,>=2.5 in /Users/wangjuntham/utm/software-dev/thamwangjun/fastai-course/virtualenvs/rag-1/lib/python3.11/site-packages (from requests->transformers) (3.6)\r\n",
      "Requirement already satisfied: urllib3<3,>=1.21.1 in /Users/wangjuntham/utm/software-dev/thamwangjun/fastai-course/virtualenvs/rag-1/lib/python3.11/site-packages (from requests->transformers) (2.1.0)\r\n",
      "Requirement already satisfied: markdown-it-py>=2.2.0 in /Users/wangjuntham/utm/software-dev/thamwangjun/fastai-course/virtualenvs/rag-1/lib/python3.11/site-packages (from rich>=12.0.1->txtai[all]) (3.0.0)\r\n",
      "Requirement already satisfied: pygments<3.0.0,>=2.13.0 in /Users/wangjuntham/utm/software-dev/thamwangjun/fastai-course/virtualenvs/rag-1/lib/python3.11/site-packages (from rich>=12.0.1->txtai[all]) (2.17.2)\r\n",
      "Requirement already satisfied: threadpoolctl>=2.0.0 in /Users/wangjuntham/utm/software-dev/thamwangjun/fastai-course/virtualenvs/rag-1/lib/python3.11/site-packages (from scikit-learn>=0.23.1->txtai[all]) (3.2.0)\r\n",
      "Requirement already satisfied: torchvision in /Users/wangjuntham/utm/software-dev/thamwangjun/fastai-course/virtualenvs/rag-1/lib/python3.11/site-packages (from sentence-transformers>=2.2.0->txtai[all]) (0.16.2)\r\n",
      "Requirement already satisfied: onnxconverter-common>=1.7.0 in /Users/wangjuntham/utm/software-dev/thamwangjun/fastai-course/virtualenvs/rag-1/lib/python3.11/site-packages (from skl2onnx>=1.9.1->txtai[all]) (1.14.0)\r\n",
      "Requirement already satisfied: cffi>=1.0 in /Users/wangjuntham/utm/software-dev/thamwangjun/fastai-course/virtualenvs/rag-1/lib/python3.11/site-packages (from soundfile>=0.10.3.post1->txtai[all]) (1.16.0)\r\n",
      "Requirement already satisfied: anyascii>=0.3.1 in /Users/wangjuntham/utm/software-dev/thamwangjun/fastai-course/virtualenvs/rag-1/lib/python3.11/site-packages (from ttstokenizer>=1.0.0->txtai[all]) (0.3.2)\r\n",
      "Requirement already satisfied: inflect>=0.3.1 in /Users/wangjuntham/utm/software-dev/thamwangjun/fastai-course/virtualenvs/rag-1/lib/python3.11/site-packages (from ttstokenizer>=1.0.0->txtai[all]) (7.0.0)\r\n",
      "Requirement already satisfied: colorama<0.5.0,>=0.4.3 in /Users/wangjuntham/utm/software-dev/thamwangjun/fastai-course/virtualenvs/rag-1/lib/python3.11/site-packages (from typer[all]<1.0,>=0.9->gradio) (0.4.6)\r\n",
      "Requirement already satisfied: shellingham<2.0.0,>=1.3.0 in /Users/wangjuntham/utm/software-dev/thamwangjun/fastai-course/virtualenvs/rag-1/lib/python3.11/site-packages (from typer[all]<1.0,>=0.9->gradio) (1.5.4)\r\n",
      "Requirement already satisfied: h11>=0.8 in /Users/wangjuntham/utm/software-dev/thamwangjun/fastai-course/virtualenvs/rag-1/lib/python3.11/site-packages (from uvicorn>=0.14.0->gradio) (0.14.0)\r\n",
      "Requirement already satisfied: anyio in /Users/wangjuntham/utm/software-dev/thamwangjun/fastai-course/virtualenvs/rag-1/lib/python3.11/site-packages (from httpx->gradio) (4.2.0)\r\n",
      "Requirement already satisfied: httpcore==1.* in /Users/wangjuntham/utm/software-dev/thamwangjun/fastai-course/virtualenvs/rag-1/lib/python3.11/site-packages (from httpx->gradio) (1.0.2)\r\n",
      "Requirement already satisfied: sniffio in /Users/wangjuntham/utm/software-dev/thamwangjun/fastai-course/virtualenvs/rag-1/lib/python3.11/site-packages (from httpx->gradio) (1.3.0)\r\n",
      "Requirement already satisfied: pycparser in /Users/wangjuntham/utm/software-dev/thamwangjun/fastai-course/virtualenvs/rag-1/lib/python3.11/site-packages (from cffi>=1.0->soundfile>=0.10.3.post1->txtai[all]) (2.21)\r\n",
      "Requirement already satisfied: zipp>=0.5 in /Users/wangjuntham/utm/software-dev/thamwangjun/fastai-course/virtualenvs/rag-1/lib/python3.11/site-packages (from importlib-metadata>=6.8.0->litellm>=1.15.8->txtai[all]) (3.17.0)\r\n",
      "Requirement already satisfied: jsonschema-specifications>=2023.03.6 in /Users/wangjuntham/utm/software-dev/thamwangjun/fastai-course/virtualenvs/rag-1/lib/python3.11/site-packages (from jsonschema>=3.0->altair<6.0,>=4.2.0->gradio) (2023.12.1)\r\n",
      "Requirement already satisfied: referencing>=0.28.4 in /Users/wangjuntham/utm/software-dev/thamwangjun/fastai-course/virtualenvs/rag-1/lib/python3.11/site-packages (from jsonschema>=3.0->altair<6.0,>=4.2.0->gradio) (0.32.0)\r\n",
      "Requirement already satisfied: rpds-py>=0.7.1 in /Users/wangjuntham/utm/software-dev/thamwangjun/fastai-course/virtualenvs/rag-1/lib/python3.11/site-packages (from jsonschema>=3.0->altair<6.0,>=4.2.0->gradio) (0.16.2)\r\n",
      "Requirement already satisfied: mdurl~=0.1 in /Users/wangjuntham/utm/software-dev/thamwangjun/fastai-course/virtualenvs/rag-1/lib/python3.11/site-packages (from markdown-it-py>=2.2.0->rich>=12.0.1->txtai[all]) (0.1.2)\r\n",
      "Requirement already satisfied: distro<2,>=1.7.0 in /Users/wangjuntham/utm/software-dev/thamwangjun/fastai-course/virtualenvs/rag-1/lib/python3.11/site-packages (from openai>=1.0.0->litellm>=1.15.8->txtai[all]) (1.9.0)\r\n",
      "Requirement already satisfied: six>=1.5 in /Users/wangjuntham/utm/software-dev/thamwangjun/fastai-course/virtualenvs/rag-1/lib/python3.11/site-packages (from python-dateutil->croniter>=1.2.0->txtai[all]) (1.16.0)\r\n",
      "Requirement already satisfied: humanfriendly>=9.1 in /Users/wangjuntham/utm/software-dev/thamwangjun/fastai-course/virtualenvs/rag-1/lib/python3.11/site-packages (from coloredlogs->onnxruntime>=1.11.0->txtai[all]) (10.0)\r\n",
      "Requirement already satisfied: mpmath>=0.19 in /Users/wangjuntham/utm/software-dev/thamwangjun/fastai-course/virtualenvs/rag-1/lib/python3.11/site-packages (from sympy->onnxruntime>=1.11.0->txtai[all]) (1.3.0)\r\n",
      "Note: you may need to restart the kernel to use updated packages.\n"
     ]
    }
   ],
   "source": [
    "%pprint on\n",
    "%pip install pip transformers gradio accelerate 'git+https://github.com/facebookresearch/fastText.git#main' 'txtai[all]' # --upgrade --force-reinstall --no-cache-dir"
   ]
  },
  {
   "cell_type": "code",
   "outputs": [
    {
     "name": "stdout",
     "output_type": "stream",
     "text": [
      "Requirement already satisfied: llama-cpp-python in /Users/wangjuntham/utm/software-dev/thamwangjun/fastai-course/virtualenvs/rag-1/lib/python3.11/site-packages (0.2.26)\r\n",
      "Requirement already satisfied: typing-extensions>=4.5.0 in /Users/wangjuntham/utm/software-dev/thamwangjun/fastai-course/virtualenvs/rag-1/lib/python3.11/site-packages (from llama-cpp-python) (4.9.0)\r\n",
      "Requirement already satisfied: numpy>=1.20.0 in /Users/wangjuntham/utm/software-dev/thamwangjun/fastai-course/virtualenvs/rag-1/lib/python3.11/site-packages (from llama-cpp-python) (1.26.2)\r\n",
      "Requirement already satisfied: diskcache>=5.6.1 in /Users/wangjuntham/utm/software-dev/thamwangjun/fastai-course/virtualenvs/rag-1/lib/python3.11/site-packages (from llama-cpp-python) (5.6.3)\r\n",
      "Note: you may need to restart the kernel to use updated packages.\n",
      "Requirement already satisfied: llama-cpp-python[server] in /Users/wangjuntham/utm/software-dev/thamwangjun/fastai-course/virtualenvs/rag-1/lib/python3.11/site-packages (0.2.26)\r\n",
      "Requirement already satisfied: typing-extensions>=4.5.0 in /Users/wangjuntham/utm/software-dev/thamwangjun/fastai-course/virtualenvs/rag-1/lib/python3.11/site-packages (from llama-cpp-python[server]) (4.9.0)\r\n",
      "Requirement already satisfied: numpy>=1.20.0 in /Users/wangjuntham/utm/software-dev/thamwangjun/fastai-course/virtualenvs/rag-1/lib/python3.11/site-packages (from llama-cpp-python[server]) (1.26.2)\r\n",
      "Requirement already satisfied: diskcache>=5.6.1 in /Users/wangjuntham/utm/software-dev/thamwangjun/fastai-course/virtualenvs/rag-1/lib/python3.11/site-packages (from llama-cpp-python[server]) (5.6.3)\r\n",
      "Requirement already satisfied: uvicorn>=0.22.0 in /Users/wangjuntham/utm/software-dev/thamwangjun/fastai-course/virtualenvs/rag-1/lib/python3.11/site-packages (from llama-cpp-python[server]) (0.25.0)\r\n",
      "Requirement already satisfied: fastapi>=0.100.0 in /Users/wangjuntham/utm/software-dev/thamwangjun/fastai-course/virtualenvs/rag-1/lib/python3.11/site-packages (from llama-cpp-python[server]) (0.108.0)\r\n",
      "Requirement already satisfied: pydantic-settings>=2.0.1 in /Users/wangjuntham/utm/software-dev/thamwangjun/fastai-course/virtualenvs/rag-1/lib/python3.11/site-packages (from llama-cpp-python[server]) (2.1.0)\r\n",
      "Requirement already satisfied: sse-starlette>=1.6.1 in /Users/wangjuntham/utm/software-dev/thamwangjun/fastai-course/virtualenvs/rag-1/lib/python3.11/site-packages (from llama-cpp-python[server]) (1.8.2)\r\n",
      "Requirement already satisfied: starlette-context<0.4,>=0.3.6 in /Users/wangjuntham/utm/software-dev/thamwangjun/fastai-course/virtualenvs/rag-1/lib/python3.11/site-packages (from llama-cpp-python[server]) (0.3.6)\r\n",
      "Requirement already satisfied: pydantic!=1.8,!=1.8.1,!=2.0.0,!=2.0.1,!=2.1.0,<3.0.0,>=1.7.4 in /Users/wangjuntham/utm/software-dev/thamwangjun/fastai-course/virtualenvs/rag-1/lib/python3.11/site-packages (from fastapi>=0.100.0->llama-cpp-python[server]) (2.5.3)\r\n",
      "Requirement already satisfied: starlette<0.33.0,>=0.29.0 in /Users/wangjuntham/utm/software-dev/thamwangjun/fastai-course/virtualenvs/rag-1/lib/python3.11/site-packages (from fastapi>=0.100.0->llama-cpp-python[server]) (0.32.0.post1)\r\n",
      "Requirement already satisfied: python-dotenv>=0.21.0 in /Users/wangjuntham/utm/software-dev/thamwangjun/fastai-course/virtualenvs/rag-1/lib/python3.11/site-packages (from pydantic-settings>=2.0.1->llama-cpp-python[server]) (1.0.0)\r\n",
      "Requirement already satisfied: anyio in /Users/wangjuntham/utm/software-dev/thamwangjun/fastai-course/virtualenvs/rag-1/lib/python3.11/site-packages (from sse-starlette>=1.6.1->llama-cpp-python[server]) (4.2.0)\r\n",
      "Requirement already satisfied: click>=7.0 in /Users/wangjuntham/utm/software-dev/thamwangjun/fastai-course/virtualenvs/rag-1/lib/python3.11/site-packages (from uvicorn>=0.22.0->llama-cpp-python[server]) (8.1.7)\r\n",
      "Requirement already satisfied: h11>=0.8 in /Users/wangjuntham/utm/software-dev/thamwangjun/fastai-course/virtualenvs/rag-1/lib/python3.11/site-packages (from uvicorn>=0.22.0->llama-cpp-python[server]) (0.14.0)\r\n",
      "Requirement already satisfied: annotated-types>=0.4.0 in /Users/wangjuntham/utm/software-dev/thamwangjun/fastai-course/virtualenvs/rag-1/lib/python3.11/site-packages (from pydantic!=1.8,!=1.8.1,!=2.0.0,!=2.0.1,!=2.1.0,<3.0.0,>=1.7.4->fastapi>=0.100.0->llama-cpp-python[server]) (0.6.0)\r\n",
      "Requirement already satisfied: pydantic-core==2.14.6 in /Users/wangjuntham/utm/software-dev/thamwangjun/fastai-course/virtualenvs/rag-1/lib/python3.11/site-packages (from pydantic!=1.8,!=1.8.1,!=2.0.0,!=2.0.1,!=2.1.0,<3.0.0,>=1.7.4->fastapi>=0.100.0->llama-cpp-python[server]) (2.14.6)\r\n",
      "Requirement already satisfied: idna>=2.8 in /Users/wangjuntham/utm/software-dev/thamwangjun/fastai-course/virtualenvs/rag-1/lib/python3.11/site-packages (from anyio->sse-starlette>=1.6.1->llama-cpp-python[server]) (3.6)\r\n",
      "Requirement already satisfied: sniffio>=1.1 in /Users/wangjuntham/utm/software-dev/thamwangjun/fastai-course/virtualenvs/rag-1/lib/python3.11/site-packages (from anyio->sse-starlette>=1.6.1->llama-cpp-python[server]) (1.3.0)\r\n",
      "Note: you may need to restart the kernel to use updated packages.\n"
     ]
    }
   ],
   "source": [
    "!export CMAKE_ARGS=\"-DLLAMA_METAL=on\"\n",
    "%pip install llama-cpp-python # --no-binary  --upgrade --force-reinstall --no-cache-dir\n",
    "%pip install 'llama-cpp-python[server]'"
   ],
   "metadata": {
    "collapsed": false,
    "ExecuteTime": {
     "end_time": "2024-01-01T15:41:17.143225Z",
     "start_time": "2024-01-01T15:41:13.063506Z"
    }
   },
   "id": "114fb98a07c7c185",
   "execution_count": 2
  },
  {
   "cell_type": "code",
   "outputs": [],
   "source": [
    "#!python -m llama_cpp.server --model \"$HOME/models/solar-10.7b-instruct-v1.0.Q5_K_M.gguf\" --n_gpu_layers 1"
   ],
   "metadata": {
    "collapsed": false,
    "ExecuteTime": {
     "end_time": "2024-01-01T15:41:17.160413Z",
     "start_time": "2024-01-01T15:41:17.142370Z"
    }
   },
   "id": "410f291d6687db2c",
   "execution_count": 3
  },
  {
   "cell_type": "code",
   "outputs": [],
   "source": [
    "from txtai.embeddings import Embeddings\n",
    "from txtai.pipeline import Extractor, LLM, Textractor\n",
    "import nltk\n",
    "\n",
    "if not nltk.downloader.Downloader().is_installed('punkt'):\n",
    "    nltk.download('punkt')"
   ],
   "metadata": {
    "collapsed": false,
    "ExecuteTime": {
     "end_time": "2024-01-01T15:41:21.842054Z",
     "start_time": "2024-01-01T15:41:17.145140Z"
    }
   },
   "id": "16f2384c456800bd",
   "execution_count": 4
  },
  {
   "cell_type": "code",
   "outputs": [],
   "source": [
    "#phi2_llm = LLM(\"TheBloke/phi-2-GGUF/phi-2.Q5_K_M.gguf\", verbose=True)"
   ],
   "metadata": {
    "collapsed": false,
    "ExecuteTime": {
     "end_time": "2024-01-01T15:41:21.842402Z",
     "start_time": "2024-01-01T15:41:21.835652Z"
    }
   },
   "id": "91da29061e14ebc7",
   "execution_count": 5
  },
  {
   "cell_type": "code",
   "outputs": [
    {
     "name": "stderr",
     "output_type": "stream",
     "text": [
      "llama_model_loader: loaded meta data with 24 key-value pairs and 435 tensors from /Users/wangjuntham/.cache/huggingface/hub/models--TheBloke--SOLAR-10.7B-Instruct-v1.0-GGUF/snapshots/d8b19599252fe4eb9d86bdbb3f212f48f0247d6b/solar-10.7b-instruct-v1.0.Q5_K_M.gguf (version GGUF V3 (latest))\n",
      "llama_model_loader: Dumping metadata keys/values. Note: KV overrides do not apply in this output.\n",
      "llama_model_loader: - kv   0:                       general.architecture str              = llama\n",
      "llama_model_loader: - kv   1:                               general.name str              = LLaMA v2\n",
      "llama_model_loader: - kv   2:                       llama.context_length u32              = 4096\n",
      "llama_model_loader: - kv   3:                     llama.embedding_length u32              = 4096\n",
      "llama_model_loader: - kv   4:                          llama.block_count u32              = 48\n",
      "llama_model_loader: - kv   5:                  llama.feed_forward_length u32              = 14336\n",
      "llama_model_loader: - kv   6:                 llama.rope.dimension_count u32              = 128\n",
      "llama_model_loader: - kv   7:                 llama.attention.head_count u32              = 32\n",
      "llama_model_loader: - kv   8:              llama.attention.head_count_kv u32              = 8\n",
      "llama_model_loader: - kv   9:     llama.attention.layer_norm_rms_epsilon f32              = 0.000010\n",
      "llama_model_loader: - kv  10:                       llama.rope.freq_base f32              = 10000.000000\n",
      "llama_model_loader: - kv  11:                          general.file_type u32              = 17\n",
      "llama_model_loader: - kv  12:                       tokenizer.ggml.model str              = llama\n",
      "llama_model_loader: - kv  13:                      tokenizer.ggml.tokens arr[str,32000]   = [\"<unk>\", \"<s>\", \"</s>\", \"<0x00>\", \"<...\n",
      "llama_model_loader: - kv  14:                      tokenizer.ggml.scores arr[f32,32000]   = [0.000000, 0.000000, 0.000000, 0.0000...\n",
      "llama_model_loader: - kv  15:                  tokenizer.ggml.token_type arr[i32,32000]   = [2, 3, 3, 6, 6, 6, 6, 6, 6, 6, 6, 6, ...\n",
      "llama_model_loader: - kv  16:                tokenizer.ggml.bos_token_id u32              = 1\n",
      "llama_model_loader: - kv  17:                tokenizer.ggml.eos_token_id u32              = 2\n",
      "llama_model_loader: - kv  18:            tokenizer.ggml.unknown_token_id u32              = 0\n",
      "llama_model_loader: - kv  19:            tokenizer.ggml.padding_token_id u32              = 2\n",
      "llama_model_loader: - kv  20:               tokenizer.ggml.add_bos_token bool             = true\n",
      "llama_model_loader: - kv  21:               tokenizer.ggml.add_eos_token bool             = false\n",
      "llama_model_loader: - kv  22:                    tokenizer.chat_template str              = {% for message in messages %}{% if me...\n",
      "llama_model_loader: - kv  23:               general.quantization_version u32              = 2\n",
      "llama_model_loader: - type  f32:   97 tensors\n",
      "llama_model_loader: - type q5_K:  289 tensors\n",
      "llama_model_loader: - type q6_K:   49 tensors\n",
      "llm_load_vocab: special tokens definition check successful ( 259/32000 ).\n",
      "llm_load_print_meta: format           = GGUF V3 (latest)\n",
      "llm_load_print_meta: arch             = llama\n",
      "llm_load_print_meta: vocab type       = SPM\n",
      "llm_load_print_meta: n_vocab          = 32000\n",
      "llm_load_print_meta: n_merges         = 0\n",
      "llm_load_print_meta: n_ctx_train      = 4096\n",
      "llm_load_print_meta: n_embd           = 4096\n",
      "llm_load_print_meta: n_head           = 32\n",
      "llm_load_print_meta: n_head_kv        = 8\n",
      "llm_load_print_meta: n_layer          = 48\n",
      "llm_load_print_meta: n_rot            = 128\n",
      "llm_load_print_meta: n_gqa            = 4\n",
      "llm_load_print_meta: f_norm_eps       = 0.0e+00\n",
      "llm_load_print_meta: f_norm_rms_eps   = 1.0e-05\n",
      "llm_load_print_meta: f_clamp_kqv      = 0.0e+00\n",
      "llm_load_print_meta: f_max_alibi_bias = 0.0e+00\n",
      "llm_load_print_meta: n_ff             = 14336\n",
      "llm_load_print_meta: n_expert         = 0\n",
      "llm_load_print_meta: n_expert_used    = 0\n",
      "llm_load_print_meta: rope scaling     = linear\n",
      "llm_load_print_meta: freq_base_train  = 10000.0\n",
      "llm_load_print_meta: freq_scale_train = 1\n",
      "llm_load_print_meta: n_yarn_orig_ctx  = 4096\n",
      "llm_load_print_meta: rope_finetuned   = unknown\n",
      "llm_load_print_meta: model type       = 34B\n",
      "llm_load_print_meta: model ftype      = Q5_K - Medium\n",
      "llm_load_print_meta: model params     = 10.73 B\n",
      "llm_load_print_meta: model size       = 7.08 GiB (5.66 BPW) \n",
      "llm_load_print_meta: general.name     = LLaMA v2\n",
      "llm_load_print_meta: BOS token        = 1 '<s>'\n",
      "llm_load_print_meta: EOS token        = 2 '</s>'\n",
      "llm_load_print_meta: UNK token        = 0 '<unk>'\n",
      "llm_load_print_meta: PAD token        = 2 '</s>'\n",
      "llm_load_print_meta: LF token         = 13 '<0x0A>'\n",
      "llm_load_tensors: ggml ctx size       =    0.17 MiB\n",
      "ggml_backend_metal_buffer_from_ptr: allocated buffer, size =  7245.95 MiB, ( 7246.02 / 49152.00)\n",
      "llm_load_tensors: system memory used  = 7245.41 MiB\n",
      "...................................................................................................\n",
      "llama_new_context_with_model: n_ctx      = 4092\n",
      "llama_new_context_with_model: freq_base  = 10000.0\n",
      "llama_new_context_with_model: freq_scale = 1\n",
      "ggml_metal_init: allocating\n",
      "ggml_metal_init: found device: Apple M1 Max\n",
      "ggml_metal_init: picking default device: Apple M1 Max\n",
      "ggml_metal_init: default.metallib not found, loading from source\n",
      "ggml_metal_init: GGML_METAL_PATH_RESOURCES = nil\n",
      "ggml_metal_init: loading '/Users/wangjuntham/utm/software-dev/thamwangjun/fastai-course/virtualenvs/rag-1/lib/python3.11/site-packages/llama_cpp/ggml-metal.metal'\n",
      "ggml_metal_init: GPU name:   Apple M1 Max\n",
      "ggml_metal_init: GPU family: MTLGPUFamilyApple7 (1007)\n",
      "ggml_metal_init: hasUnifiedMemory              = true\n",
      "ggml_metal_init: recommendedMaxWorkingSetSize  = 51539.61 MB\n",
      "ggml_metal_init: maxTransferRate               = built-in GPU\n",
      "ggml_backend_metal_buffer_type_alloc_buffer: allocated buffer, size =   767.25 MiB, ( 8014.83 / 49152.00)\n",
      "llama_new_context_with_model: KV self size  =  767.25 MiB, K (f16):  383.62 MiB, V (f16):  383.62 MiB\n",
      "ggml_backend_metal_buffer_type_alloc_buffer: allocated buffer, size =     0.02 MiB, ( 8014.84 / 49152.00)\n",
      "llama_build_graph: non-view tensors processed: 1012/1012\n",
      "llama_new_context_with_model: compute buffer total size = 290.93 MiB\n",
      "ggml_backend_metal_buffer_type_alloc_buffer: allocated buffer, size =   287.75 MiB, ( 8302.58 / 49152.00)\n",
      "AVX = 0 | AVX2 = 0 | AVX512 = 0 | AVX512_VBMI = 0 | AVX512_VNNI = 0 | FMA = 0 | NEON = 1 | ARM_FMA = 1 | F16C = 0 | FP16_VA = 1 | WASM_SIMD = 0 | BLAS = 1 | SSE3 = 0 | SSSE3 = 0 | VSX = 0 | \n"
     ]
    }
   ],
   "source": [
    "solar_llm = LLM(\"TheBloke/SOLAR-10.7B-Instruct-v1.0-GGUF/solar-10.7b-instruct-v1.0.Q5_K_M.gguf\", verbose=True, template=\"\"\"<|im_start|>### System:\n",
    "    You are a friendly assistant. You answer questions from users.<|im_end|>\n",
    "    <|im_start|>### User:\n",
    "    {text}\n",
    "    <|im_end|>\n",
    "    <|im_start|>### Assistant:\n",
    "    \"\"\", n_ctx=4092, n_gpu_layers=1)"
   ],
   "metadata": {
    "collapsed": false,
    "ExecuteTime": {
     "end_time": "2024-01-01T15:41:22.360849Z",
     "start_time": "2024-01-01T15:41:21.838492Z"
    }
   },
   "id": "200badf457190916",
   "execution_count": 6
  },
  {
   "cell_type": "code",
   "outputs": [],
   "source": [
    "def prompt(query: str, question: str) -> list:\n",
    "    return [{\n",
    "        \"query\": query,\n",
    "        \"question\": question\n",
    "    }]"
   ],
   "metadata": {
    "collapsed": false,
    "ExecuteTime": {
     "end_time": "2024-01-01T15:41:22.361208Z",
     "start_time": "2024-01-01T15:41:22.345326Z"
    }
   },
   "id": "38d9cc4343dd248c",
   "execution_count": 7
  },
  {
   "cell_type": "code",
   "outputs": [],
   "source": [
    "def stream():\n",
    "    textract = Textractor(paragraphs=True)\n",
    "    for thing in textract(\"zarathustra.md\"):\n",
    "        yield thing.strip().replace(\"\\n\", \"\")\n",
    "\n",
    "embeddings = Embeddings(content=True, autoid=\"uuid5\", path='sentence-transformers/all-MiniLM-L12-v2', gpu=True)\n",
    "# embeddings.index(stream())\n",
    "# embeddings.save(\"zarathustra.index.tar.gz\")\n",
    "embeddings.load(\"zarathustra.index.tar.gz\")"
   ],
   "metadata": {
    "collapsed": false,
    "ExecuteTime": {
     "end_time": "2024-01-01T15:41:24.116409Z",
     "start_time": "2024-01-01T15:41:22.348333Z"
    }
   },
   "id": "443ddef7dd615a9f",
   "execution_count": 8
  },
  {
   "cell_type": "code",
   "outputs": [],
   "source": [
    "extractor = Extractor(embeddings, solar_llm, output=\"reference\", context=48, mintokens=64, template=\"\"\"\n",
    "        From the matching text in the given context, answer my question in great detail. The response should be related to the text from the context only.\n",
    "        \n",
    "        #### Question:\n",
    "        {question}\n",
    "        \n",
    "        #### Context:\n",
    "        {context}\n",
    "        \"\"\")"
   ],
   "metadata": {
    "collapsed": false,
    "ExecuteTime": {
     "end_time": "2024-01-01T15:41:24.128814Z",
     "start_time": "2024-01-01T15:41:24.117311Z"
    }
   },
   "id": "a43c54161d38b608",
   "execution_count": 9
  },
  {
   "cell_type": "code",
   "outputs": [],
   "source": [
    "# question = \"What does Zarathustra have to say about pity?\""
   ],
   "metadata": {
    "collapsed": false,
    "ExecuteTime": {
     "end_time": "2024-01-01T15:41:24.129094Z",
     "start_time": "2024-01-01T15:41:24.119462Z"
    }
   },
   "id": "b90ce8de239722b2",
   "execution_count": 10
  },
  {
   "cell_type": "code",
   "outputs": [
    {
     "name": "stdout",
     "output_type": "stream",
     "text": [
      "How are creators described and interpreted?\n"
     ]
    },
    {
     "name": "stderr",
     "output_type": "stream",
     "text": [
      "Llama.generate: prefix-match hit\n"
     ]
    },
    {
     "name": "stdout",
     "output_type": "stream",
     "text": [
      "In the given context, creators are described as individuals who seek to establish new values and redefine existing ones. They break old laws and value systems, often being perceived as law-breakers or despisers of good and evil by society. However, they are also referred to as harvesters and rejoicers, playing a crucial role in shaping the meaning and future of humanity. Creators are compared to mothers, enduring pain and willingness to destroy old structures for the emergence of something new. They are differentiated from actors and fabricators as their primary motivation is creation rather than presentation or manipulation. This process of creating often involves evaluating what already exists, thereby giving meaning to their actions. Creators might be seen as complex, hard, and sometimes unclean due to their transformative nature, but they possess the power to create new values and freedom for continuous innovation.\n",
      "[{'id': '6b006209-6c0b-5143-9d09-047fd8203bab', 'text': 'A change in values – that means a change in the creators of values. He who has to be a creator always has to destroy.'}]\n"
     ]
    },
    {
     "name": "stderr",
     "output_type": "stream",
     "text": [
      "\n",
      "llama_print_timings:        load time =    3367.66 ms\n",
      "llama_print_timings:      sample time =      18.83 ms /   184 runs   (    0.10 ms per token,  9773.20 tokens per second)\n",
      "llama_print_timings: prompt eval time =       0.00 ms /     1 tokens (    0.00 ms per token,      inf tokens per second)\n",
      "llama_print_timings:        eval time =   13903.31 ms /   184 runs   (   75.56 ms per token,    13.23 tokens per second)\n",
      "llama_print_timings:       total time =   14204.12 ms\n"
     ]
    }
   ],
   "source": [
    "question = input()\n",
    "print(question)\n",
    "result = extractor(prompt(question, question), maxlength=4096)\n",
    "print(result[0][\"answer\"])\n",
    "print(embeddings.search(\"select id, text from txtai where id = :id\", limit=48, parameters={\"id\": result[0][\"reference\"]}))"
   ],
   "metadata": {
    "collapsed": false,
    "ExecuteTime": {
     "end_time": "2024-01-01T16:04:48.828422Z",
     "start_time": "2024-01-01T16:04:32.556277Z"
    }
   },
   "id": "18e49cb7691ba49d",
   "execution_count": 17
  }
 ],
 "metadata": {
  "kernelspec": {
   "name": "rag-1a",
   "language": "python",
   "display_name": "RAG 1A"
  },
  "language_info": {
   "codemirror_mode": {
    "name": "ipython",
    "version": 2
   },
   "file_extension": ".py",
   "mimetype": "text/x-python",
   "name": "python",
   "nbconvert_exporter": "python",
   "pygments_lexer": "ipython2",
   "version": "2.7.6"
  }
 },
 "nbformat": 4,
 "nbformat_minor": 5
}
