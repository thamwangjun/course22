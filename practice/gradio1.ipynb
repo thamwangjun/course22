{
 "cells": [
  {
   "cell_type": "code",
   "execution_count": 1,
   "id": "initial_id",
   "metadata": {
    "collapsed": true,
    "ExecuteTime": {
     "end_time": "2024-01-05T10:42:06.902213Z",
     "start_time": "2024-01-05T10:42:03.911650Z"
    }
   },
   "outputs": [
    {
     "name": "stdout",
     "output_type": "stream",
     "text": [
      "Requirement already satisfied: gradio in /Users/wangjuntham/utm/software-dev/thamwangjun/fastai-course/virtualenvs/rag-1/lib/python3.11/site-packages (4.12.0)\r\n",
      "Requirement already satisfied: llama-index in /Users/wangjuntham/utm/software-dev/thamwangjun/fastai-course/virtualenvs/rag-1/lib/python3.11/site-packages (0.9.25.post1)\r\n",
      "Requirement already satisfied: aiofiles<24.0,>=22.0 in /Users/wangjuntham/utm/software-dev/thamwangjun/fastai-course/virtualenvs/rag-1/lib/python3.11/site-packages (from gradio) (23.2.1)\r\n",
      "Requirement already satisfied: altair<6.0,>=4.2.0 in /Users/wangjuntham/utm/software-dev/thamwangjun/fastai-course/virtualenvs/rag-1/lib/python3.11/site-packages (from gradio) (5.2.0)\r\n",
      "Requirement already satisfied: fastapi in /Users/wangjuntham/utm/software-dev/thamwangjun/fastai-course/virtualenvs/rag-1/lib/python3.11/site-packages (from gradio) (0.108.0)\r\n",
      "Requirement already satisfied: ffmpy in /Users/wangjuntham/utm/software-dev/thamwangjun/fastai-course/virtualenvs/rag-1/lib/python3.11/site-packages (from gradio) (0.3.1)\r\n",
      "Requirement already satisfied: gradio-client==0.8.0 in /Users/wangjuntham/utm/software-dev/thamwangjun/fastai-course/virtualenvs/rag-1/lib/python3.11/site-packages (from gradio) (0.8.0)\r\n",
      "Requirement already satisfied: httpx in /Users/wangjuntham/utm/software-dev/thamwangjun/fastai-course/virtualenvs/rag-1/lib/python3.11/site-packages (from gradio) (0.26.0)\r\n",
      "Requirement already satisfied: huggingface-hub>=0.19.3 in /Users/wangjuntham/utm/software-dev/thamwangjun/fastai-course/virtualenvs/rag-1/lib/python3.11/site-packages (from gradio) (0.20.1)\r\n",
      "Requirement already satisfied: importlib-resources<7.0,>=1.3 in /Users/wangjuntham/utm/software-dev/thamwangjun/fastai-course/virtualenvs/rag-1/lib/python3.11/site-packages (from gradio) (6.1.1)\r\n",
      "Requirement already satisfied: jinja2<4.0 in /Users/wangjuntham/utm/software-dev/thamwangjun/fastai-course/virtualenvs/rag-1/lib/python3.11/site-packages (from gradio) (3.1.2)\r\n",
      "Requirement already satisfied: markupsafe~=2.0 in /Users/wangjuntham/utm/software-dev/thamwangjun/fastai-course/virtualenvs/rag-1/lib/python3.11/site-packages (from gradio) (2.1.3)\r\n",
      "Requirement already satisfied: matplotlib~=3.0 in /Users/wangjuntham/utm/software-dev/thamwangjun/fastai-course/virtualenvs/rag-1/lib/python3.11/site-packages (from gradio) (3.8.2)\r\n",
      "Requirement already satisfied: numpy~=1.0 in /Users/wangjuntham/utm/software-dev/thamwangjun/fastai-course/virtualenvs/rag-1/lib/python3.11/site-packages (from gradio) (1.26.2)\r\n",
      "Requirement already satisfied: orjson~=3.0 in /Users/wangjuntham/utm/software-dev/thamwangjun/fastai-course/virtualenvs/rag-1/lib/python3.11/site-packages (from gradio) (3.9.10)\r\n",
      "Requirement already satisfied: packaging in /Users/wangjuntham/utm/software-dev/thamwangjun/fastai-course/virtualenvs/rag-1/lib/python3.11/site-packages (from gradio) (23.2)\r\n",
      "Requirement already satisfied: pandas<3.0,>=1.0 in /Users/wangjuntham/utm/software-dev/thamwangjun/fastai-course/virtualenvs/rag-1/lib/python3.11/site-packages (from gradio) (2.1.4)\r\n",
      "Requirement already satisfied: pillow<11.0,>=8.0 in /Users/wangjuntham/utm/software-dev/thamwangjun/fastai-course/virtualenvs/rag-1/lib/python3.11/site-packages (from gradio) (10.1.0)\r\n",
      "Requirement already satisfied: pydantic>=2.0 in /Users/wangjuntham/utm/software-dev/thamwangjun/fastai-course/virtualenvs/rag-1/lib/python3.11/site-packages (from gradio) (2.5.3)\r\n",
      "Requirement already satisfied: pydub in /Users/wangjuntham/utm/software-dev/thamwangjun/fastai-course/virtualenvs/rag-1/lib/python3.11/site-packages (from gradio) (0.25.1)\r\n",
      "Requirement already satisfied: python-multipart in /Users/wangjuntham/utm/software-dev/thamwangjun/fastai-course/virtualenvs/rag-1/lib/python3.11/site-packages (from gradio) (0.0.6)\r\n",
      "Requirement already satisfied: pyyaml<7.0,>=5.0 in /Users/wangjuntham/utm/software-dev/thamwangjun/fastai-course/virtualenvs/rag-1/lib/python3.11/site-packages (from gradio) (6.0.1)\r\n",
      "Requirement already satisfied: semantic-version~=2.0 in /Users/wangjuntham/utm/software-dev/thamwangjun/fastai-course/virtualenvs/rag-1/lib/python3.11/site-packages (from gradio) (2.10.0)\r\n",
      "Requirement already satisfied: tomlkit==0.12.0 in /Users/wangjuntham/utm/software-dev/thamwangjun/fastai-course/virtualenvs/rag-1/lib/python3.11/site-packages (from gradio) (0.12.0)\r\n",
      "Requirement already satisfied: typer<1.0,>=0.9 in /Users/wangjuntham/utm/software-dev/thamwangjun/fastai-course/virtualenvs/rag-1/lib/python3.11/site-packages (from typer[all]<1.0,>=0.9->gradio) (0.9.0)\r\n",
      "Requirement already satisfied: typing-extensions~=4.0 in /Users/wangjuntham/utm/software-dev/thamwangjun/fastai-course/virtualenvs/rag-1/lib/python3.11/site-packages (from gradio) (4.9.0)\r\n",
      "Requirement already satisfied: uvicorn>=0.14.0 in /Users/wangjuntham/utm/software-dev/thamwangjun/fastai-course/virtualenvs/rag-1/lib/python3.11/site-packages (from gradio) (0.25.0)\r\n",
      "Requirement already satisfied: fsspec in /Users/wangjuntham/utm/software-dev/thamwangjun/fastai-course/virtualenvs/rag-1/lib/python3.11/site-packages (from gradio-client==0.8.0->gradio) (2023.12.2)\r\n",
      "Requirement already satisfied: websockets<12.0,>=10.0 in /Users/wangjuntham/utm/software-dev/thamwangjun/fastai-course/virtualenvs/rag-1/lib/python3.11/site-packages (from gradio-client==0.8.0->gradio) (11.0.3)\r\n",
      "Requirement already satisfied: SQLAlchemy>=1.4.49 in /Users/wangjuntham/utm/software-dev/thamwangjun/fastai-course/virtualenvs/rag-1/lib/python3.11/site-packages (from SQLAlchemy[asyncio]>=1.4.49->llama-index) (2.0.24)\r\n",
      "Requirement already satisfied: aiohttp<4.0.0,>=3.8.6 in /Users/wangjuntham/utm/software-dev/thamwangjun/fastai-course/virtualenvs/rag-1/lib/python3.11/site-packages (from llama-index) (3.9.1)\r\n",
      "Requirement already satisfied: beautifulsoup4<5.0.0,>=4.12.2 in /Users/wangjuntham/utm/software-dev/thamwangjun/fastai-course/virtualenvs/rag-1/lib/python3.11/site-packages (from llama-index) (4.12.2)\r\n",
      "Requirement already satisfied: dataclasses-json in /Users/wangjuntham/utm/software-dev/thamwangjun/fastai-course/virtualenvs/rag-1/lib/python3.11/site-packages (from llama-index) (0.6.3)\r\n",
      "Requirement already satisfied: deprecated>=1.2.9.3 in /Users/wangjuntham/utm/software-dev/thamwangjun/fastai-course/virtualenvs/rag-1/lib/python3.11/site-packages (from llama-index) (1.2.14)\r\n",
      "Requirement already satisfied: nest-asyncio<2.0.0,>=1.5.8 in /Users/wangjuntham/utm/software-dev/thamwangjun/fastai-course/virtualenvs/rag-1/lib/python3.11/site-packages (from llama-index) (1.5.8)\r\n",
      "Requirement already satisfied: nltk<4.0.0,>=3.8.1 in /Users/wangjuntham/utm/software-dev/thamwangjun/fastai-course/virtualenvs/rag-1/lib/python3.11/site-packages (from llama-index) (3.8.1)\r\n",
      "Requirement already satisfied: openai>=1.1.0 in /Users/wangjuntham/utm/software-dev/thamwangjun/fastai-course/virtualenvs/rag-1/lib/python3.11/site-packages (from llama-index) (1.6.1)\r\n",
      "Requirement already satisfied: requests>=2.31.0 in /Users/wangjuntham/utm/software-dev/thamwangjun/fastai-course/virtualenvs/rag-1/lib/python3.11/site-packages (from llama-index) (2.31.0)\r\n",
      "Requirement already satisfied: tenacity<9.0.0,>=8.2.0 in /Users/wangjuntham/utm/software-dev/thamwangjun/fastai-course/virtualenvs/rag-1/lib/python3.11/site-packages (from llama-index) (8.2.3)\r\n",
      "Requirement already satisfied: tiktoken>=0.3.3 in /Users/wangjuntham/utm/software-dev/thamwangjun/fastai-course/virtualenvs/rag-1/lib/python3.11/site-packages (from llama-index) (0.5.2)\r\n",
      "Requirement already satisfied: typing-inspect>=0.8.0 in /Users/wangjuntham/utm/software-dev/thamwangjun/fastai-course/virtualenvs/rag-1/lib/python3.11/site-packages (from llama-index) (0.9.0)\r\n",
      "Requirement already satisfied: attrs>=17.3.0 in /Users/wangjuntham/utm/software-dev/thamwangjun/fastai-course/virtualenvs/rag-1/lib/python3.11/site-packages (from aiohttp<4.0.0,>=3.8.6->llama-index) (23.1.0)\r\n",
      "Requirement already satisfied: multidict<7.0,>=4.5 in /Users/wangjuntham/utm/software-dev/thamwangjun/fastai-course/virtualenvs/rag-1/lib/python3.11/site-packages (from aiohttp<4.0.0,>=3.8.6->llama-index) (6.0.4)\r\n",
      "Requirement already satisfied: yarl<2.0,>=1.0 in /Users/wangjuntham/utm/software-dev/thamwangjun/fastai-course/virtualenvs/rag-1/lib/python3.11/site-packages (from aiohttp<4.0.0,>=3.8.6->llama-index) (1.9.4)\r\n",
      "Requirement already satisfied: frozenlist>=1.1.1 in /Users/wangjuntham/utm/software-dev/thamwangjun/fastai-course/virtualenvs/rag-1/lib/python3.11/site-packages (from aiohttp<4.0.0,>=3.8.6->llama-index) (1.4.1)\r\n",
      "Requirement already satisfied: aiosignal>=1.1.2 in /Users/wangjuntham/utm/software-dev/thamwangjun/fastai-course/virtualenvs/rag-1/lib/python3.11/site-packages (from aiohttp<4.0.0,>=3.8.6->llama-index) (1.3.1)\r\n",
      "Requirement already satisfied: jsonschema>=3.0 in /Users/wangjuntham/utm/software-dev/thamwangjun/fastai-course/virtualenvs/rag-1/lib/python3.11/site-packages (from altair<6.0,>=4.2.0->gradio) (4.20.0)\r\n",
      "Requirement already satisfied: toolz in /Users/wangjuntham/utm/software-dev/thamwangjun/fastai-course/virtualenvs/rag-1/lib/python3.11/site-packages (from altair<6.0,>=4.2.0->gradio) (0.12.0)\r\n",
      "Requirement already satisfied: soupsieve>1.2 in /Users/wangjuntham/utm/software-dev/thamwangjun/fastai-course/virtualenvs/rag-1/lib/python3.11/site-packages (from beautifulsoup4<5.0.0,>=4.12.2->llama-index) (2.5)\r\n",
      "Requirement already satisfied: wrapt<2,>=1.10 in /Users/wangjuntham/utm/software-dev/thamwangjun/fastai-course/virtualenvs/rag-1/lib/python3.11/site-packages (from deprecated>=1.2.9.3->llama-index) (1.16.0)\r\n",
      "Requirement already satisfied: filelock in /Users/wangjuntham/utm/software-dev/thamwangjun/fastai-course/virtualenvs/rag-1/lib/python3.11/site-packages (from huggingface-hub>=0.19.3->gradio) (3.13.1)\r\n",
      "Requirement already satisfied: tqdm>=4.42.1 in /Users/wangjuntham/utm/software-dev/thamwangjun/fastai-course/virtualenvs/rag-1/lib/python3.11/site-packages (from huggingface-hub>=0.19.3->gradio) (4.66.1)\r\n",
      "Requirement already satisfied: contourpy>=1.0.1 in /Users/wangjuntham/utm/software-dev/thamwangjun/fastai-course/virtualenvs/rag-1/lib/python3.11/site-packages (from matplotlib~=3.0->gradio) (1.2.0)\r\n",
      "Requirement already satisfied: cycler>=0.10 in /Users/wangjuntham/utm/software-dev/thamwangjun/fastai-course/virtualenvs/rag-1/lib/python3.11/site-packages (from matplotlib~=3.0->gradio) (0.12.1)\r\n",
      "Requirement already satisfied: fonttools>=4.22.0 in /Users/wangjuntham/utm/software-dev/thamwangjun/fastai-course/virtualenvs/rag-1/lib/python3.11/site-packages (from matplotlib~=3.0->gradio) (4.47.0)\r\n",
      "Requirement already satisfied: kiwisolver>=1.3.1 in /Users/wangjuntham/utm/software-dev/thamwangjun/fastai-course/virtualenvs/rag-1/lib/python3.11/site-packages (from matplotlib~=3.0->gradio) (1.4.5)\r\n",
      "Requirement already satisfied: pyparsing>=2.3.1 in /Users/wangjuntham/utm/software-dev/thamwangjun/fastai-course/virtualenvs/rag-1/lib/python3.11/site-packages (from matplotlib~=3.0->gradio) (3.1.1)\r\n",
      "Requirement already satisfied: python-dateutil>=2.7 in /Users/wangjuntham/utm/software-dev/thamwangjun/fastai-course/virtualenvs/rag-1/lib/python3.11/site-packages (from matplotlib~=3.0->gradio) (2.8.2)\r\n",
      "Requirement already satisfied: click in /Users/wangjuntham/utm/software-dev/thamwangjun/fastai-course/virtualenvs/rag-1/lib/python3.11/site-packages (from nltk<4.0.0,>=3.8.1->llama-index) (8.1.7)\r\n",
      "Requirement already satisfied: joblib in /Users/wangjuntham/utm/software-dev/thamwangjun/fastai-course/virtualenvs/rag-1/lib/python3.11/site-packages (from nltk<4.0.0,>=3.8.1->llama-index) (1.3.2)\r\n",
      "Requirement already satisfied: regex>=2021.8.3 in /Users/wangjuntham/utm/software-dev/thamwangjun/fastai-course/virtualenvs/rag-1/lib/python3.11/site-packages (from nltk<4.0.0,>=3.8.1->llama-index) (2023.12.25)\r\n",
      "Requirement already satisfied: anyio<5,>=3.5.0 in /Users/wangjuntham/utm/software-dev/thamwangjun/fastai-course/virtualenvs/rag-1/lib/python3.11/site-packages (from openai>=1.1.0->llama-index) (4.2.0)\r\n",
      "Requirement already satisfied: distro<2,>=1.7.0 in /Users/wangjuntham/utm/software-dev/thamwangjun/fastai-course/virtualenvs/rag-1/lib/python3.11/site-packages (from openai>=1.1.0->llama-index) (1.9.0)\r\n",
      "Requirement already satisfied: sniffio in /Users/wangjuntham/utm/software-dev/thamwangjun/fastai-course/virtualenvs/rag-1/lib/python3.11/site-packages (from openai>=1.1.0->llama-index) (1.3.0)\r\n",
      "Requirement already satisfied: certifi in /Users/wangjuntham/utm/software-dev/thamwangjun/fastai-course/virtualenvs/rag-1/lib/python3.11/site-packages (from httpx->gradio) (2023.11.17)\r\n",
      "Requirement already satisfied: httpcore==1.* in /Users/wangjuntham/utm/software-dev/thamwangjun/fastai-course/virtualenvs/rag-1/lib/python3.11/site-packages (from httpx->gradio) (1.0.2)\r\n",
      "Requirement already satisfied: idna in /Users/wangjuntham/utm/software-dev/thamwangjun/fastai-course/virtualenvs/rag-1/lib/python3.11/site-packages (from httpx->gradio) (3.6)\r\n",
      "Requirement already satisfied: h11<0.15,>=0.13 in /Users/wangjuntham/utm/software-dev/thamwangjun/fastai-course/virtualenvs/rag-1/lib/python3.11/site-packages (from httpcore==1.*->httpx->gradio) (0.14.0)\r\n",
      "Requirement already satisfied: pytz>=2020.1 in /Users/wangjuntham/utm/software-dev/thamwangjun/fastai-course/virtualenvs/rag-1/lib/python3.11/site-packages (from pandas<3.0,>=1.0->gradio) (2023.3.post1)\r\n",
      "Requirement already satisfied: tzdata>=2022.1 in /Users/wangjuntham/utm/software-dev/thamwangjun/fastai-course/virtualenvs/rag-1/lib/python3.11/site-packages (from pandas<3.0,>=1.0->gradio) (2023.4)\r\n",
      "Requirement already satisfied: annotated-types>=0.4.0 in /Users/wangjuntham/utm/software-dev/thamwangjun/fastai-course/virtualenvs/rag-1/lib/python3.11/site-packages (from pydantic>=2.0->gradio) (0.6.0)\r\n",
      "Requirement already satisfied: pydantic-core==2.14.6 in /Users/wangjuntham/utm/software-dev/thamwangjun/fastai-course/virtualenvs/rag-1/lib/python3.11/site-packages (from pydantic>=2.0->gradio) (2.14.6)\r\n",
      "Requirement already satisfied: charset-normalizer<4,>=2 in /Users/wangjuntham/utm/software-dev/thamwangjun/fastai-course/virtualenvs/rag-1/lib/python3.11/site-packages (from requests>=2.31.0->llama-index) (3.3.2)\r\n",
      "Requirement already satisfied: urllib3<3,>=1.21.1 in /Users/wangjuntham/utm/software-dev/thamwangjun/fastai-course/virtualenvs/rag-1/lib/python3.11/site-packages (from requests>=2.31.0->llama-index) (2.1.0)\r\n",
      "Requirement already satisfied: greenlet!=0.4.17 in /Users/wangjuntham/utm/software-dev/thamwangjun/fastai-course/virtualenvs/rag-1/lib/python3.11/site-packages (from SQLAlchemy[asyncio]>=1.4.49->llama-index) (3.0.3)\r\n",
      "Requirement already satisfied: colorama<0.5.0,>=0.4.3 in /Users/wangjuntham/utm/software-dev/thamwangjun/fastai-course/virtualenvs/rag-1/lib/python3.11/site-packages (from typer[all]<1.0,>=0.9->gradio) (0.4.6)\r\n",
      "Requirement already satisfied: shellingham<2.0.0,>=1.3.0 in /Users/wangjuntham/utm/software-dev/thamwangjun/fastai-course/virtualenvs/rag-1/lib/python3.11/site-packages (from typer[all]<1.0,>=0.9->gradio) (1.5.4)\r\n",
      "Requirement already satisfied: rich<14.0.0,>=10.11.0 in /Users/wangjuntham/utm/software-dev/thamwangjun/fastai-course/virtualenvs/rag-1/lib/python3.11/site-packages (from typer[all]<1.0,>=0.9->gradio) (13.7.0)\r\n",
      "Requirement already satisfied: mypy-extensions>=0.3.0 in /Users/wangjuntham/utm/software-dev/thamwangjun/fastai-course/virtualenvs/rag-1/lib/python3.11/site-packages (from typing-inspect>=0.8.0->llama-index) (1.0.0)\r\n",
      "Requirement already satisfied: marshmallow<4.0.0,>=3.18.0 in /Users/wangjuntham/utm/software-dev/thamwangjun/fastai-course/virtualenvs/rag-1/lib/python3.11/site-packages (from dataclasses-json->llama-index) (3.20.1)\r\n",
      "Requirement already satisfied: starlette<0.33.0,>=0.29.0 in /Users/wangjuntham/utm/software-dev/thamwangjun/fastai-course/virtualenvs/rag-1/lib/python3.11/site-packages (from fastapi->gradio) (0.32.0.post1)\r\n",
      "Requirement already satisfied: jsonschema-specifications>=2023.03.6 in /Users/wangjuntham/utm/software-dev/thamwangjun/fastai-course/virtualenvs/rag-1/lib/python3.11/site-packages (from jsonschema>=3.0->altair<6.0,>=4.2.0->gradio) (2023.12.1)\r\n",
      "Requirement already satisfied: referencing>=0.28.4 in /Users/wangjuntham/utm/software-dev/thamwangjun/fastai-course/virtualenvs/rag-1/lib/python3.11/site-packages (from jsonschema>=3.0->altair<6.0,>=4.2.0->gradio) (0.32.0)\r\n",
      "Requirement already satisfied: rpds-py>=0.7.1 in /Users/wangjuntham/utm/software-dev/thamwangjun/fastai-course/virtualenvs/rag-1/lib/python3.11/site-packages (from jsonschema>=3.0->altair<6.0,>=4.2.0->gradio) (0.16.2)\r\n",
      "Requirement already satisfied: six>=1.5 in /Users/wangjuntham/utm/software-dev/thamwangjun/fastai-course/virtualenvs/rag-1/lib/python3.11/site-packages (from python-dateutil>=2.7->matplotlib~=3.0->gradio) (1.16.0)\r\n",
      "Requirement already satisfied: markdown-it-py>=2.2.0 in /Users/wangjuntham/utm/software-dev/thamwangjun/fastai-course/virtualenvs/rag-1/lib/python3.11/site-packages (from rich<14.0.0,>=10.11.0->typer[all]<1.0,>=0.9->gradio) (3.0.0)\r\n",
      "Requirement already satisfied: pygments<3.0.0,>=2.13.0 in /Users/wangjuntham/utm/software-dev/thamwangjun/fastai-course/virtualenvs/rag-1/lib/python3.11/site-packages (from rich<14.0.0,>=10.11.0->typer[all]<1.0,>=0.9->gradio) (2.17.2)\r\n",
      "Requirement already satisfied: mdurl~=0.1 in /Users/wangjuntham/utm/software-dev/thamwangjun/fastai-course/virtualenvs/rag-1/lib/python3.11/site-packages (from markdown-it-py>=2.2.0->rich<14.0.0,>=10.11.0->typer[all]<1.0,>=0.9->gradio) (0.1.2)\r\n",
      "Note: you may need to restart the kernel to use updated packages.\n"
     ]
    }
   ],
   "source": [
    "%pip install gradio llama-index"
   ]
  },
  {
   "cell_type": "code",
   "outputs": [
    {
     "name": "stdout",
     "output_type": "stream",
     "text": [
      "Requirement already satisfied: llama-cpp-python in /Users/wangjuntham/utm/software-dev/thamwangjun/fastai-course/virtualenvs/rag-1/lib/python3.11/site-packages (0.2.26)\r\n",
      "Collecting llama-cpp-python\r\n",
      "  Downloading llama_cpp_python-0.2.27.tar.gz (9.4 MB)\r\n",
      "\u001B[2K     \u001B[90m━━━━━━━━━━━━━━━━━━━━━━━━━━━━━━━━━━━━━━━━\u001B[0m \u001B[32m9.4/9.4 MB\u001B[0m \u001B[31m28.3 MB/s\u001B[0m eta \u001B[36m0:00:00\u001B[0ma \u001B[36m0:00:01\u001B[0m\r\n",
      "\u001B[?25h  Installing build dependencies ... \u001B[?25ldone\r\n",
      "\u001B[?25h  Getting requirements to build wheel ... \u001B[?25ldone\r\n",
      "\u001B[?25h  Installing backend dependencies ... \u001B[?25ldone\r\n",
      "\u001B[?25h  Preparing metadata (pyproject.toml) ... \u001B[?25ldone\r\n",
      "\u001B[?25hRequirement already satisfied: typing-extensions>=4.5.0 in /Users/wangjuntham/utm/software-dev/thamwangjun/fastai-course/virtualenvs/rag-1/lib/python3.11/site-packages (from llama-cpp-python) (4.9.0)\r\n",
      "Requirement already satisfied: numpy>=1.20.0 in /Users/wangjuntham/utm/software-dev/thamwangjun/fastai-course/virtualenvs/rag-1/lib/python3.11/site-packages (from llama-cpp-python) (1.26.2)\r\n",
      "Requirement already satisfied: diskcache>=5.6.1 in /Users/wangjuntham/utm/software-dev/thamwangjun/fastai-course/virtualenvs/rag-1/lib/python3.11/site-packages (from llama-cpp-python) (5.6.3)\r\n",
      "Building wheels for collected packages: llama-cpp-python\r\n",
      "  Building wheel for llama-cpp-python (pyproject.toml) ... \u001B[?25ldone\r\n",
      "\u001B[?25h  Created wheel for llama-cpp-python: filename=llama_cpp_python-0.2.27-cp311-cp311-macosx_14_0_arm64.whl size=1846850 sha256=8afeb4ed57774aedbcea478bf62306f62300e30b7bbf6bf626bedb2969e158ce\r\n",
      "  Stored in directory: /private/var/folders/43/13h_2sgd3bxflq4m898ym8bm0000gn/T/pip-ephem-wheel-cache-j8jgd1d6/wheels/0e/27/a4/13df52c36a09d5eaab1bd43ccce1bdee5d5a4e282537267fdd\r\n",
      "Successfully built llama-cpp-python\r\n",
      "Installing collected packages: llama-cpp-python\r\n",
      "  Attempting uninstall: llama-cpp-python\r\n",
      "    Found existing installation: llama_cpp_python 0.2.26\r\n",
      "    Uninstalling llama_cpp_python-0.2.26:\r\n",
      "      Successfully uninstalled llama_cpp_python-0.2.26\r\n",
      "Successfully installed llama-cpp-python-0.2.27\r\n",
      "Note: you may need to restart the kernel to use updated packages.\n"
     ]
    }
   ],
   "source": [
    "# install llama-cpp-python with METAL support from scratch\n",
    "#!export CMAKE_ARGS=\"-DLLAMA_METAL=on\" \n",
    "#%pip install -U llama-cpp-python --no-cache-dir"
   ],
   "metadata": {
    "collapsed": false,
    "ExecuteTime": {
     "end_time": "2024-01-05T10:40:29.549741Z",
     "start_time": "2024-01-05T10:40:11.145171Z"
    }
   },
   "id": "ab90e8f98dac383b",
   "execution_count": 6
  },
  {
   "cell_type": "code",
   "outputs": [],
   "source": [
    "import gradio as gr\n",
    "from llama_index.llms.llama_cpp import LlamaCPP"
   ],
   "metadata": {
    "collapsed": false,
    "ExecuteTime": {
     "end_time": "2024-01-05T10:42:18.033621Z",
     "start_time": "2024-01-05T10:42:13.689665Z"
    }
   },
   "id": "65813366f2471782",
   "execution_count": 2
  },
  {
   "cell_type": "code",
   "outputs": [],
   "source": [
    "from llama_index import (\n",
    "    SimpleDirectoryReader,\n",
    "    VectorStoreIndex,\n",
    "    ServiceContext,\n",
    ")\n",
    "from llama_index.llms import LlamaCPP\n",
    "from llama_index.llms.llama_utils import (\n",
    "    messages_to_prompt,\n",
    "    completion_to_prompt,\n",
    ")"
   ],
   "metadata": {
    "collapsed": false,
    "ExecuteTime": {
     "end_time": "2024-01-05T10:42:41.179710Z",
     "start_time": "2024-01-05T10:42:41.176901Z"
    }
   },
   "id": "7f64057450db8f7",
   "execution_count": 3
  },
  {
   "cell_type": "code",
   "outputs": [],
   "source": [
    "model_url = \"https://huggingface.co/TheBloke/phi-2-GGUF/blob/main/phi-2.Q5_K_M.gguf\"\n",
    "llm = LlamaCPP(\n",
    "    model_url=model_url,\n",
    "    # optionally, you can set the path to a pre-downloaded model instead of model_url\n",
    "    model_path=None,\n",
    "    temperature=0.1,\n",
    "    max_new_tokens=512,\n",
    "    context_window=1024,\n",
    "    # kwargs to pass to __call__()\n",
    "    generate_kwargs={},\n",
    "    # kwargs to pass to __init__()\n",
    "    # set to at least 1 to use GPU\n",
    "    model_kwargs={\n",
    "        \"n_gpu_layers\": 35,\n",
    "        \"n_threads\": 8\n",
    "    },\n",
    "    # transform inputs into Llama2 format\n",
    "    messages_to_prompt=messages_to_prompt,\n",
    "    completion_to_prompt=completion_to_prompt,\n",
    "    verbose=True,\n",
    ")"
   ],
   "metadata": {
    "collapsed": false
   },
   "id": "2772945d7329acac"
  }
 ],
 "metadata": {
  "kernelspec": {
   "name": "rag-1a",
   "language": "python",
   "display_name": "RAG 1A"
  },
  "language_info": {
   "codemirror_mode": {
    "name": "ipython",
    "version": 2
   },
   "file_extension": ".py",
   "mimetype": "text/x-python",
   "name": "python",
   "nbconvert_exporter": "python",
   "pygments_lexer": "ipython2",
   "version": "2.7.6"
  }
 },
 "nbformat": 4,
 "nbformat_minor": 5
}
